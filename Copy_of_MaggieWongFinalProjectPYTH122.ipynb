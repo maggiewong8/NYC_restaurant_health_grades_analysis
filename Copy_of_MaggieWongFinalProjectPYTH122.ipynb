{
  "nbformat": 4,
  "nbformat_minor": 0,
  "metadata": {
    "colab": {
      "name": "Copy of MaggieWongFinalProjectPYTH122.ipynb",
      "provenance": [],
      "include_colab_link": true
    },
    "kernelspec": {
      "name": "python3",
      "display_name": "Python 3"
    }
  },
  "cells": [
    {
      "cell_type": "markdown",
      "metadata": {
        "id": "view-in-github",
        "colab_type": "text"
      },
      "source": [
        "<a href=\"https://colab.research.google.com/github/maggiewong8/NYC_restaurant_health_grades_analysis/blob/master/Copy_of_MaggieWongFinalProjectPYTH122.ipynb\" target=\"_parent\"><img src=\"https://colab.research.google.com/assets/colab-badge.svg\" alt=\"Open In Colab\"/></a>"
      ]
    },
    {
      "cell_type": "markdown",
      "metadata": {
        "id": "DYbOX_J9DHQl",
        "colab_type": "text"
      },
      "source": [
        "\n",
        "# Where in the city has the most sanitary (and not) restaurants?\n",
        "---\n",
        "\n",
        "If you've ever walked past a restaurant or your favorite grab and go lunch spot, you've noticed a grade. I want to figure out where in the city has the most violations and where in the city has the cleanest restaurants in nyc.... also, which are potentially the most shocking not clean restuarants. is it your favorite restaurant?"
      ]
    },
    {
      "cell_type": "code",
      "metadata": {
        "id": "TAown1gabRoW",
        "colab_type": "code",
        "colab": {
          "base_uri": "https://localhost:8080/",
          "height": 35
        },
        "outputId": "aa399811-c911-4639-86f0-aaa1fc552ae8"
      },
      "source": [
        "#IMPORT LIBRARIES FIRST\n",
        "import numpy as np\n",
        "import pandas as pd\n",
        "import matplotlib.pyplot as plt\n",
        "%matplotlib inline \n",
        "\n",
        "plt.style.use('fivethirtyeight') \n",
        "\n",
        "plt.rcParams['figure.figsize'] = (8, 6) \n",
        "plt.rcParams['font.size'] = 14\n",
        "\n",
        "print('done')\n",
        "\n"
      ],
      "execution_count": 1,
      "outputs": [
        {
          "output_type": "stream",
          "text": [
            "done\n"
          ],
          "name": "stdout"
        }
      ]
    },
    {
      "cell_type": "code",
      "metadata": {
        "id": "VgWR2tfkrewE",
        "colab_type": "code",
        "colab": {
          "base_uri": "https://localhost:8080/",
          "height": 124
        },
        "outputId": "2cd2fcdd-23cb-4cfd-c492-ae9b8a949141"
      },
      "source": [
        "from google.colab import drive\n",
        "drive.mount('/content/gdrive')"
      ],
      "execution_count": 2,
      "outputs": [
        {
          "output_type": "stream",
          "text": [
            "Go to this URL in a browser: https://accounts.google.com/o/oauth2/auth?client_id=947318989803-6bn6qk8qdgf4n4g3pfee6491hc0brc4i.apps.googleusercontent.com&redirect_uri=urn%3aietf%3awg%3aoauth%3a2.0%3aoob&response_type=code&scope=email%20https%3a%2f%2fwww.googleapis.com%2fauth%2fdocs.test%20https%3a%2f%2fwww.googleapis.com%2fauth%2fdrive%20https%3a%2f%2fwww.googleapis.com%2fauth%2fdrive.photos.readonly%20https%3a%2f%2fwww.googleapis.com%2fauth%2fpeopleapi.readonly\n",
            "\n",
            "Enter your authorization code:\n",
            "··········\n",
            "Mounted at /content/gdrive\n"
          ],
          "name": "stdout"
        }
      ]
    },
    {
      "cell_type": "code",
      "metadata": {
        "id": "EN_1x3u2r6Ht",
        "colab_type": "code",
        "colab": {
          "base_uri": "https://localhost:8080/",
          "height": 52
        },
        "outputId": "47a7381f-ac09-4e90-bb04-c90be26006c9"
      },
      "source": [
        "!ls '/content/gdrive/My Drive/Maggie Wong PYTH122'"
      ],
      "execution_count": 3,
      "outputs": [
        {
          "output_type": "stream",
          "text": [
            "DOHMH_New_York_City_Restaurant_Inspection_Results.csv\n",
            "neighborhood_zipcodes.csv\n"
          ],
          "name": "stdout"
        }
      ]
    },
    {
      "cell_type": "code",
      "metadata": {
        "id": "4Ijrq9XWrpL3",
        "colab_type": "code",
        "colab": {
          "base_uri": "https://localhost:8080/",
          "height": 35
        },
        "outputId": "6b5d8f87-b8d1-43d7-fb51-7c72d5a77e67"
      },
      "source": [
        "# IMPORT DATASETS FROM GOOGLE DRIVE AND SOME TESTS BELOW\n",
        "health_grades_orig = pd.read_csv('/content/gdrive/My Drive/Maggie Wong PYTH122/DOHMH_New_York_City_Restaurant_Inspection_Results.csv')\n",
        "health_grades = health_grades_orig.copy()\n",
        "neighborhood_by_zip_orig = pd.read_csv('/content/gdrive/My Drive/Maggie Wong PYTH122/neighborhood_zipcodes.csv')\n",
        "neighborhood_by_zip = neighborhood_by_zip_orig\n",
        "\n",
        "print('done')"
      ],
      "execution_count": 4,
      "outputs": [
        {
          "output_type": "stream",
          "text": [
            "done\n"
          ],
          "name": "stdout"
        }
      ]
    },
    {
      "cell_type": "code",
      "metadata": {
        "id": "6tGxss2psFAn",
        "colab_type": "code",
        "colab": {}
      },
      "source": [
        "#neighborhood_by_zip_orig"
      ],
      "execution_count": 0,
      "outputs": []
    },
    {
      "cell_type": "code",
      "metadata": {
        "id": "ki766Kb2hNEZ",
        "colab_type": "code",
        "colab": {}
      },
      "source": [
        "# health_grades\n",
        "#neighborhood_by_zip"
      ],
      "execution_count": 0,
      "outputs": []
    },
    {
      "cell_type": "code",
      "metadata": {
        "id": "sFsePwZ-dGXf",
        "colab_type": "code",
        "colab": {}
      },
      "source": [
        "# health_grades.info()\n",
        "# neighborhood_by_zip.info()"
      ],
      "execution_count": 0,
      "outputs": []
    },
    {
      "cell_type": "markdown",
      "metadata": {
        "id": "LmsbpHchGg25",
        "colab_type": "text"
      },
      "source": [
        "# Let's make this dataset readable and useful for our study. \n",
        "We are going to only include critical flag violations, which includes:\n",
        "\n",
        "*   Food at wrong temp \n",
        "*   Not having sink \n",
        "*   Vermon (ew)\n",
        "\n",
        "For more info https://www1.nyc.gov/assets/doh/downloads/pdf/rii/blue-book.pdf"
      ]
    },
    {
      "cell_type": "code",
      "metadata": {
        "id": "yOb47eFaeCMi",
        "colab_type": "code",
        "colab": {}
      },
      "source": [
        "health_grades = health_grades[['DBA', 'CUISINE DESCRIPTION', 'BORO', 'BUILDING', 'STREET', 'ZIPCODE', 'INSPECTION DATE', 'CRITICAL FLAG', 'VIOLATION DESCRIPTION' ]]\n"
      ],
      "execution_count": 0,
      "outputs": []
    },
    {
      "cell_type": "code",
      "metadata": {
        "id": "0LKMVcqvfoox",
        "colab_type": "code",
        "colab": {
          "base_uri": "https://localhost:8080/",
          "height": 69
        },
        "outputId": "93036bd5-fe0c-4143-90a4-804721fa0040"
      },
      "source": [
        "health_grades.rename(columns={'DBA': 'NAME'}, inplace=True)\n",
        "health_grades.columns"
      ],
      "execution_count": 9,
      "outputs": [
        {
          "output_type": "execute_result",
          "data": {
            "text/plain": [
              "Index(['NAME', 'CUISINE DESCRIPTION', 'BORO', 'BUILDING', 'STREET', 'ZIPCODE',\n",
              "       'INSPECTION DATE', 'CRITICAL FLAG', 'VIOLATION DESCRIPTION'],\n",
              "      dtype='object')"
            ]
          },
          "metadata": {
            "tags": []
          },
          "execution_count": 9
        }
      ]
    },
    {
      "cell_type": "code",
      "metadata": {
        "id": "bTH-QxTDdmXg",
        "colab_type": "code",
        "colab": {}
      },
      "source": [
        "health_grades['YEAR'] = pd.to_datetime(health_grades['INSPECTION DATE']).dt.year\n",
        "health_grades = health_grades[['NAME', 'CUISINE DESCRIPTION', 'BORO', 'BUILDING', 'STREET', 'ZIPCODE', 'YEAR', 'INSPECTION DATE', 'CRITICAL FLAG', 'VIOLATION DESCRIPTION' ]]\n",
        "health_grades = health_grades[health_grades['CRITICAL FLAG'] == 'Y']\n",
        "#health_grades.head(2)"
      ],
      "execution_count": 0,
      "outputs": []
    },
    {
      "cell_type": "code",
      "metadata": {
        "id": "j09GsaXOPMxB",
        "colab_type": "code",
        "colab": {
          "base_uri": "https://localhost:8080/",
          "height": 881
        },
        "outputId": "7bf46d16-8f03-480e-8e22-c963c8185214"
      },
      "source": [
        "# HOW TO CONVERT TO A DICTIONARY. GOAL IS TO BE ABLE TO CREATE SEARCHABLE RESTAURANTS BY NEIGHBORHOOD\n",
        "# neighborhood_by_zip = neighborhood_by_zip[['NEIGHBORHOOD', 'ZIPCODES']]\n",
        "# # neighborhood_by_zip\n",
        "# neighborhood_dict = neighborhood_by_zip.to_dict() \n",
        "# neighborhood_dict\n",
        "\n",
        "neighborhood_zip_dict = {}\n",
        "\n",
        "for row in neighborhood_by_zip.iterrows():\n",
        "  data = row[1]\n",
        "  zipcodes = data[\"ZIPCODES\"].split(',')\n",
        "  zip_as_int = []\n",
        "  for zipcode in zipcodes:\n",
        "    zip_as_int.append(int(zipcode.strip()))\n",
        "\n",
        "  neighborhood_zip_dict[data[\"NEIGHBORHOOD\"]] = zip_as_int\n",
        "\n",
        "neighborhood_zip_dict"
      ],
      "execution_count": 11,
      "outputs": [
        {
          "output_type": "execute_result",
          "data": {
            "text/plain": [
              "{'Borough Park': [11204, 11218, 11219, 11230],\n",
              " 'Bronx Park and Fordham': [10458, 10467, 10468],\n",
              " 'Bushwick and Williamsburg': [11206, 11221, 11237],\n",
              " 'Canarsie and Flatlands': [11234, 11236, 11239],\n",
              " 'Central Bronx': [10453, 10457, 10460],\n",
              " 'Central Brooklyn': [11212, 11213, 11216, 11233, 11238],\n",
              " 'Central Harlem': [10026, 10027, 10030, 10037, 10039],\n",
              " 'Central Queens': [11365, 11366, 11367],\n",
              " 'Chelsea and Clinton': [10001, 10011, 10018, 10019, 10020, 10036],\n",
              " 'East Harlem': [10029, 10035],\n",
              " 'East New York and New Lots': [11207, 11208],\n",
              " 'Flatbush': [11203, 11210, 11225, 11226],\n",
              " 'Gramercy Park and Murray Hill': [10010, 10016, 10017, 10022],\n",
              " 'Greenpoint': [11211, 11222],\n",
              " 'Greenwich Village and Soho': [10012, 10013, 10014],\n",
              " 'High Bridge and Morrisania': [10451, 10452, 10456],\n",
              " 'Hunts Point and Mott Haven': [10454, 10455, 10459, 10474],\n",
              " 'Inwood and Washington Heights': [10031, 10032, 10033, 10034, 10040],\n",
              " 'Jamaica': [11412, 11423, 11432, 11433, 11434, 11435, 11436],\n",
              " 'Kingsbridge and Riverdale': [10463, 10471],\n",
              " 'Lower East Side': [10002, 10003, 10009],\n",
              " 'Lower Manhattan': [10004, 10005, 10006, 10007, 10038, 10280],\n",
              " 'Mid-Island': [10314],\n",
              " 'North Queens': [11354, 11355, 11356, 11357, 11358, 11359, 11360],\n",
              " 'Northeast Bronx': [10466, 10469, 10470, 10475],\n",
              " 'Northeast Queens': [11361, 11362, 11363, 11364],\n",
              " 'Northwest Brooklyn': [11201, 11205, 11215, 11217, 11231],\n",
              " 'Northwest Queens': [11101, 11102, 11103, 11104, 11105, 11106],\n",
              " 'Port Richmond': [10302, 10303, 10310],\n",
              " 'Rockaways': [11691, 11692, 11693, 11694, 11695, 11697],\n",
              " 'South Shore': [10306, 10307, 10308, 10309, 10312],\n",
              " 'Southeast Bronx': [10461, 10462, 10464, 10465, 10472, 10473],\n",
              " 'Southeast Queens': [11004,\n",
              "  11005,\n",
              "  11411,\n",
              "  11413,\n",
              "  11422,\n",
              "  11426,\n",
              "  11427,\n",
              "  11428,\n",
              "  11429],\n",
              " 'Southern Brooklyn': [11223, 11224, 11229, 11235],\n",
              " 'Southwest Brooklyn': [11209, 11214, 11228],\n",
              " 'Southwest Queens': [11414, 11415, 11416, 11417, 11418, 11419, 11420, 11421],\n",
              " 'Stapleton and St. George': [10301, 10304, 10305],\n",
              " 'Sunset Park': [11220, 11232],\n",
              " 'Upper East Side': [10021, 10028, 10044, 10065, 10075, 10128],\n",
              " 'Upper West Side': [10023, 10024, 10025],\n",
              " 'West Central Queens': [11374, 11375, 11379, 11385],\n",
              " 'West Queens': [11368, 11369, 11370, 11372, 11373, 11377, 11378]}"
            ]
          },
          "metadata": {
            "tags": []
          },
          "execution_count": 11
        }
      ]
    },
    {
      "cell_type": "code",
      "metadata": {
        "id": "h5SazA60JB7X",
        "colab_type": "code",
        "colab": {}
      },
      "source": [
        "# health_grades"
      ],
      "execution_count": 0,
      "outputs": []
    },
    {
      "cell_type": "markdown",
      "metadata": {
        "id": "vMKFbWgDj6CG",
        "colab_type": "text"
      },
      "source": [
        "# Restaurant Search by ZIP and Name"
      ]
    },
    {
      "cell_type": "code",
      "metadata": {
        "id": "YnhxspX_damk",
        "colab_type": "code",
        "colab": {
          "base_uri": "https://localhost:8080/",
          "height": 515
        },
        "outputId": "5e5ef3fd-26a1-4c92-a33a-f10f96cf2523"
      },
      "source": [
        "rest_variable = input('name of resturant: ')\n",
        "rest_variable = rest_variable.upper()\n",
        "zip_variable = input('zipcode: ')\n",
        "zip_variable_float = float(zip_variable)\n",
        "\n",
        "health_grades_specific_restaurant= health_grades[health_grades['NAME'] == rest_variable]\n",
        "\n",
        "rest_in_zip = health_grades_specific_restaurant[health_grades_specific_restaurant['ZIPCODE'] == zip_variable_float]\n",
        "\n",
        "rest_in_zip['YEAR'].value_counts().head().plot(kind='bar', x='Year', y='Number of Critial Violations')\n",
        "plt.suptitle(rest_variable + ' Critical Violations located in ZIP ' + str(zip_variable))\n",
        "\n",
        "\n"
      ],
      "execution_count": 14,
      "outputs": [
        {
          "output_type": "stream",
          "text": [
            "name of resturant: DIG INN\n",
            "zipcode: 10003\n"
          ],
          "name": "stdout"
        },
        {
          "output_type": "execute_result",
          "data": {
            "text/plain": [
              "Text(0.5, 0.98, 'DIG INN Critical Violations located in ZIP 10003')"
            ]
          },
          "metadata": {
            "tags": []
          },
          "execution_count": 14
        },
        {
          "output_type": "display_data",
          "data": {
            "image/png": "[encoded data removed]",
            "text/plain": [
              "<Figure size 576x432 with 1 Axes>"
            ]
          },
          "metadata": {
            "tags": []
          }
        }
      ]
    },
    {
      "cell_type": "code",
      "metadata": {
        "id": "ekWuZDJSz3RG",
        "colab_type": "code",
        "colab": {}
      },
      "source": [
        ""
      ],
      "execution_count": 0,
      "outputs": []
    },
    {
      "cell_type": "markdown",
      "metadata": {
        "id": "IcRF5GzDkEJD",
        "colab_type": "text"
      },
      "source": [
        "#If you want to see what violations they got... run the code below. \n",
        "Sorted by most recent violations"
      ]
    },
    {
      "cell_type": "code",
      "metadata": {
        "id": "FkHdVdqsj44V",
        "colab_type": "code",
        "colab": {
          "base_uri": "https://localhost:8080/",
          "height": 396
        },
        "outputId": "b757be0b-4d06-400b-eed8-df9effe50c5e"
      },
      "source": [
        "rest_in_zip.sort_values(by=['YEAR', 'INSPECTION DATE'] , ascending=[False, False])"
      ],
      "execution_count": 15,
      "outputs": [
        {
          "output_type": "execute_result",
          "data": {
            "text/html": [
              "<div>\n",
              "<style scoped>\n",
              "    .dataframe tbody tr th:only-of-type {\n",
              "        vertical-align: middle;\n",
              "    }\n",
              "\n",
              "    .dataframe tbody tr th {\n",
              "        vertical-align: top;\n",
              "    }\n",
              "\n",
              "    .dataframe thead th {\n",
              "        text-align: right;\n",
              "    }\n",
              "</style>\n",
              "<table border=\"1\" class=\"dataframe\">\n",
              "  <thead>\n",
              "    <tr style=\"text-align: right;\">\n",
              "      <th></th>\n",
              "      <th>NAME</th>\n",
              "      <th>CUISINE DESCRIPTION</th>\n",
              "      <th>BORO</th>\n",
              "      <th>BUILDING</th>\n",
              "      <th>STREET</th>\n",
              "      <th>ZIPCODE</th>\n",
              "      <th>YEAR</th>\n",
              "      <th>INSPECTION DATE</th>\n",
              "      <th>CRITICAL FLAG</th>\n",
              "      <th>VIOLATION DESCRIPTION</th>\n",
              "    </tr>\n",
              "  </thead>\n",
              "  <tbody>\n",
              "    <tr>\n",
              "      <th>104833</th>\n",
              "      <td>DIG INN</td>\n",
              "      <td>American</td>\n",
              "      <td>Manhattan</td>\n",
              "      <td>17</td>\n",
              "      <td>East 17th Street</td>\n",
              "      <td>10003.0</td>\n",
              "      <td>2019</td>\n",
              "      <td>11/07/2019</td>\n",
              "      <td>Y</td>\n",
              "      <td>Filth flies or food/refuse/sewage-associated (...</td>\n",
              "    </tr>\n",
              "    <tr>\n",
              "      <th>137435</th>\n",
              "      <td>DIG INN</td>\n",
              "      <td>American</td>\n",
              "      <td>Manhattan</td>\n",
              "      <td>17</td>\n",
              "      <td>East 17th Street</td>\n",
              "      <td>10003.0</td>\n",
              "      <td>2019</td>\n",
              "      <td>11/07/2019</td>\n",
              "      <td>Y</td>\n",
              "      <td>Sanitized equipment or utensil, including in-u...</td>\n",
              "    </tr>\n",
              "    <tr>\n",
              "      <th>336559</th>\n",
              "      <td>DIG INN</td>\n",
              "      <td>American</td>\n",
              "      <td>Manhattan</td>\n",
              "      <td>17</td>\n",
              "      <td>East 17th Street</td>\n",
              "      <td>10003.0</td>\n",
              "      <td>2019</td>\n",
              "      <td>11/07/2019</td>\n",
              "      <td>Y</td>\n",
              "      <td>Hot food item not held at or above 140º F.</td>\n",
              "    </tr>\n",
              "    <tr>\n",
              "      <th>122608</th>\n",
              "      <td>DIG INN</td>\n",
              "      <td>American</td>\n",
              "      <td>Manhattan</td>\n",
              "      <td>17</td>\n",
              "      <td>East 17th Street</td>\n",
              "      <td>10003.0</td>\n",
              "      <td>2018</td>\n",
              "      <td>11/26/2018</td>\n",
              "      <td>Y</td>\n",
              "      <td>Hot food item not held at or above 140º F.</td>\n",
              "    </tr>\n",
              "    <tr>\n",
              "      <th>176967</th>\n",
              "      <td>DIG INN</td>\n",
              "      <td>American</td>\n",
              "      <td>Manhattan</td>\n",
              "      <td>17</td>\n",
              "      <td>East 17th Street</td>\n",
              "      <td>10003.0</td>\n",
              "      <td>2017</td>\n",
              "      <td>12/07/2017</td>\n",
              "      <td>Y</td>\n",
              "      <td>Cold food item held above 41º F (smoked fish a...</td>\n",
              "    </tr>\n",
              "    <tr>\n",
              "      <th>331648</th>\n",
              "      <td>DIG INN</td>\n",
              "      <td>American</td>\n",
              "      <td>Manhattan</td>\n",
              "      <td>17</td>\n",
              "      <td>East 17th Street</td>\n",
              "      <td>10003.0</td>\n",
              "      <td>2017</td>\n",
              "      <td>02/01/2017</td>\n",
              "      <td>Y</td>\n",
              "      <td>Food not cooled by an approved method whereby ...</td>\n",
              "    </tr>\n",
              "    <tr>\n",
              "      <th>353863</th>\n",
              "      <td>DIG INN</td>\n",
              "      <td>American</td>\n",
              "      <td>Manhattan</td>\n",
              "      <td>17</td>\n",
              "      <td>East 17th Street</td>\n",
              "      <td>10003.0</td>\n",
              "      <td>2016</td>\n",
              "      <td>12/07/2016</td>\n",
              "      <td>Y</td>\n",
              "      <td>Hot food item not held at or above 140º F.</td>\n",
              "    </tr>\n",
              "  </tbody>\n",
              "</table>\n",
              "</div>"
            ],
            "text/plain": [
              "           NAME  ...                              VIOLATION DESCRIPTION\n",
              "104833  DIG INN  ...  Filth flies or food/refuse/sewage-associated (...\n",
              "137435  DIG INN  ...  Sanitized equipment or utensil, including in-u...\n",
              "336559  DIG INN  ...         Hot food item not held at or above 140º F.\n",
              "122608  DIG INN  ...         Hot food item not held at or above 140º F.\n",
              "176967  DIG INN  ...  Cold food item held above 41º F (smoked fish a...\n",
              "331648  DIG INN  ...  Food not cooled by an approved method whereby ...\n",
              "353863  DIG INN  ...         Hot food item not held at or above 140º F.\n",
              "\n",
              "[7 rows x 10 columns]"
            ]
          },
          "metadata": {
            "tags": []
          },
          "execution_count": 15
        }
      ]
    },
    {
      "cell_type": "markdown",
      "metadata": {
        "id": "rKZ9y0JBkDzc",
        "colab_type": "text"
      },
      "source": [
        ""
      ]
    },
    {
      "cell_type": "code",
      "metadata": {
        "id": "BzVDWUE-fesK",
        "colab_type": "code",
        "colab": {
          "base_uri": "https://localhost:8080/",
          "height": 502
        },
        "outputId": "c5dc4318-3b33-4b4e-9430-5238aab0a52f"
      },
      "source": [
        "health_grades_2019= health_grades[health_grades['YEAR'] == 2019]\n",
        "\n",
        "health_grades_2019['ZIPCODE'].value_counts().head(10).plot(kind='bar')\n",
        "plt.suptitle('TOP 10 ZIPS WITH MOST VIOLATIONS IN NYC IN 2019')\n"
      ],
      "execution_count": 16,
      "outputs": [
        {
          "output_type": "execute_result",
          "data": {
            "text/plain": [
              "Text(0.5, 0.98, 'TOP 10 ZIPS WITH MOST VIOLATIONS IN NYC IN 2019')"
            ]
          },
          "metadata": {
            "tags": []
          },
          "execution_count": 16
        },
        {
          "output_type": "display_data",
          "data": {
            "image/png": "[encoded data removed]",
            "text/plain": [
              "<Figure size 576x432 with 1 Axes>"
            ]
          },
          "metadata": {
            "tags": []
          }
        }
      ]
    },
    {
      "cell_type": "markdown",
      "metadata": {
        "id": "Fbg7NjpHfe76",
        "colab_type": "text"
      },
      "source": [
        ""
      ]
    },
    {
      "cell_type": "code",
      "metadata": {
        "id": "63znXl-ogfuO",
        "colab_type": "code",
        "colab": {
          "base_uri": "https://localhost:8080/",
          "height": 502
        },
        "outputId": "5d380160-b5d9-4eed-a892-0baf2fa587ae"
      },
      "source": [
        "health_grades_2019['ZIPCODE'].value_counts().tail(10).plot(kind='bar')\n",
        "plt.suptitle('10 ZIPS WITH LEAST VIOLATIONS IN NYC IN 2019')\n",
        "\n"
      ],
      "execution_count": 17,
      "outputs": [
        {
          "output_type": "execute_result",
          "data": {
            "text/plain": [
              "Text(0.5, 0.98, '10 ZIPS WITH LEAST VIOLATIONS IN NYC IN 2019')"
            ]
          },
          "metadata": {
            "tags": []
          },
          "execution_count": 17
        },
        {
          "output_type": "display_data",
          "data": {
            "image/png": "[encoded data removed]",
            "text/plain": [
              "<Figure size 576x432 with 1 Axes>"
            ]
          },
          "metadata": {
            "tags": []
          }
        }
      ]
    },
    {
      "cell_type": "code",
      "metadata": {
        "id": "o_VNooKKfG7w",
        "colab_type": "code",
        "colab": {
          "base_uri": "https://localhost:8080/",
          "height": 915
        },
        "outputId": "b450aa5b-ef43-4c76-f72e-3baac04c7c89"
      },
      "source": [
        "health_grades_2019['CUISINE DESCRIPTION'].value_counts().head(10).plot(kind='bar')\n",
        "plt.suptitle('CUSINES WITH MOST VIOLATIONS IN NYC IN 2019')"
      ],
      "execution_count": 18,
      "outputs": [
        {
          "output_type": "execute_result",
          "data": {
            "text/plain": [
              "Text(0.5, 0.98, 'CUSINES WITH MOST VIOLATIONS IN NYC IN 2019')"
            ]
          },
          "metadata": {
            "tags": []
          },
          "execution_count": 18
        },
        {
          "output_type": "display_data",
          "data": {
            "image/png": "[encoded data removed]",
            "text/plain": [
              "<Figure size 576x432 with 1 Axes>"
            ]
          },
          "metadata": {
            "tags": []
          }
        }
      ]
    },
    {
      "cell_type": "code",
      "metadata": {
        "id": "PDGLpzc90QyA",
        "colab_type": "code",
        "colab": {}
      },
      "source": [
        ""
      ],
      "execution_count": 0,
      "outputs": []
    }
  ]
}