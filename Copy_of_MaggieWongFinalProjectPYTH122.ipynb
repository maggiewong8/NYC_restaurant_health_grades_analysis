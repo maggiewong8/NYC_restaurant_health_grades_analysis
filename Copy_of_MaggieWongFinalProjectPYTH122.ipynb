{
  "nbformat": 4,
  "nbformat_minor": 0,
  "metadata": {
    "colab": {
      "name": "Copy of MaggieWongFinalProjectPYTH122.ipynb",
      "provenance": [],
      "include_colab_link": true
    },
    "kernelspec": {
      "name": "python3",
      "display_name": "Python 3"
    }
  },
  "cells": [
    {
      "cell_type": "markdown",
      "metadata": {
        "id": "view-in-github",
        "colab_type": "text"
      },
      "source": [
        "<a href=\"https://colab.research.google.com/github/maggiewong8/NYC_restaurant_health_grades_analysis/blob/master/Copy_of_MaggieWongFinalProjectPYTH122.ipynb\" target=\"_parent\"><img src=\"https://colab.research.google.com/assets/colab-badge.svg\" alt=\"Open In Colab\"/></a>"
      ]
    },
    {
      "cell_type": "markdown",
      "metadata": {
        "id": "DYbOX_J9DHQl",
        "colab_type": "text"
      },
      "source": [
        "\n",
        "# Where in the city has the most sanitary (and not) restaurants?\n",
        "---\n",
        "\n",
        "If you've ever walked past a restaurant or your favorite grab and go lunch spot, you've noticed a grade. I want to figure out where in the city has the most violations and where in the city has the cleanest restaurants in nyc.... also, which are potentially the most shocking not clean restuarants. is it your favorite restaurant?"
      ]
    },
    {
      "cell_type": "code",
      "metadata": {
        "id": "TAown1gabRoW",
        "colab_type": "code",
        "colab": {}
      },
      "source": [
        "#IMPORT LIBRARIES FIRST\n",
        "import numpy as np\n",
        "import pandas as pd\n",
        "import matplotlib.pyplot as plt\n",
        "%matplotlib inline \n",
        "\n",
        "plt.style.use('fivethirtyeight') \n",
        "\n",
        "plt.rcParams['figure.figsize'] = (8, 6) \n",
        "plt.rcParams['font.size'] = 14\n",
        "\n",
        "print('done')\n",
        "\n"
      ],
      "execution_count": 0,
      "outputs": []
    },
    {
      "cell_type": "code",
      "metadata": {
        "id": "VgWR2tfkrewE",
        "colab_type": "code",
        "colab": {}
      },
      "source": [
        "from google.colab import drive\n",
        "drive.mount('/content/gdrive')"
      ],
      "execution_count": 0,
      "outputs": []
    },
    {
      "cell_type": "code",
      "metadata": {
        "id": "EN_1x3u2r6Ht",
        "colab_type": "code",
        "colab": {}
      },
      "source": [
        "!ls '/content/gdrive/My Drive/Maggie Wong PYTH122'"
      ],
      "execution_count": 0,
      "outputs": []
    },
    {
      "cell_type": "code",
      "metadata": {
        "id": "4Ijrq9XWrpL3",
        "colab_type": "code",
        "colab": {}
      },
      "source": [
        "# IMPORT DATASETS FROM GOOGLE DRIVE AND SOME TESTS BELOW\n",
        "health_grades_orig = pd.read_csv('/content/gdrive/My Drive/Maggie Wong PYTH122/DOHMH_New_York_City_Restaurant_Inspection_Results.csv')\n",
        "health_grades = health_grades_orig.copy()\n",
        "neighborhood_by_zip_orig = pd.read_csv('/content/gdrive/My Drive/Maggie Wong PYTH122/neighborhood_zipcodes.csv')\n",
        "neighborhood_by_zip = neighborhood_by_zip_orig\n",
        "\n",
        "print('done')"
      ],
      "execution_count": 0,
      "outputs": []
    },
    {
      "cell_type": "code",
      "metadata": {
        "id": "6tGxss2psFAn",
        "colab_type": "code",
        "colab": {}
      },
      "source": [
        "#neighborhood_by_zip_orig"
      ],
      "execution_count": 0,
      "outputs": []
    },
    {
      "cell_type": "code",
      "metadata": {
        "id": "ki766Kb2hNEZ",
        "colab_type": "code",
        "colab": {}
      },
      "source": [
        "# health_grades\n",
        "#neighborhood_by_zip"
      ],
      "execution_count": 0,
      "outputs": []
    },
    {
      "cell_type": "code",
      "metadata": {
        "id": "sFsePwZ-dGXf",
        "colab_type": "code",
        "colab": {}
      },
      "source": [
        "# health_grades.info()\n",
        "# neighborhood_by_zip.info()"
      ],
      "execution_count": 0,
      "outputs": []
    },
    {
      "cell_type": "markdown",
      "metadata": {
        "id": "LmsbpHchGg25",
        "colab_type": "text"
      },
      "source": [
        "# Let's make this dataset readable and useful for our study. \n",
        "We are going to only include critical flag violations, which includes:\n",
        "\n",
        "*   Food at wrong temp \n",
        "*   Not having sink \n",
        "*   Vermon (ew)\n",
        "\n",
        "For more info https://www1.nyc.gov/assets/doh/downloads/pdf/rii/blue-book.pdf"
      ]
    },
    {
      "cell_type": "code",
      "metadata": {
        "id": "yOb47eFaeCMi",
        "colab_type": "code",
        "colab": {}
      },
      "source": [
        "health_grades = health_grades[['DBA', 'CUISINE DESCRIPTION', 'BORO', 'BUILDING', 'STREET', 'ZIPCODE', 'INSPECTION DATE', 'CRITICAL FLAG', 'VIOLATION DESCRIPTION' ]]\n"
      ],
      "execution_count": 0,
      "outputs": []
    },
    {
      "cell_type": "code",
      "metadata": {
        "id": "0LKMVcqvfoox",
        "colab_type": "code",
        "colab": {}
      },
      "source": [
        "health_grades.rename(columns={'DBA': 'NAME'}, inplace=True)\n",
        "health_grades.columns"
      ],
      "execution_count": 0,
      "outputs": []
    },
    {
      "cell_type": "code",
      "metadata": {
        "id": "bTH-QxTDdmXg",
        "colab_type": "code",
        "colab": {}
      },
      "source": [
        "health_grades['YEAR'] = pd.to_datetime(health_grades['INSPECTION DATE']).dt.year\n",
        "health_grades = health_grades[['NAME', 'CUISINE DESCRIPTION', 'BORO', 'BUILDING', 'STREET', 'ZIPCODE', 'YEAR', 'INSPECTION DATE', 'CRITICAL FLAG', 'VIOLATION DESCRIPTION' ]]\n",
        "health_grades = health_grades[health_grades['CRITICAL FLAG'] == 'Y']\n",
        "#health_grades.head(2)"
      ],
      "execution_count": 0,
      "outputs": []
    },
    {
      "cell_type": "code",
      "metadata": {
        "id": "j09GsaXOPMxB",
        "colab_type": "code",
        "colab": {}
      },
      "source": [
        "# HOW TO CONVERT TO A DICTIONARY. GOAL IS TO BE ABLE TO CREATE SEARCHABLE RESTAURANTS BY NEIGHBORHOOD\n",
        "# neighborhood_by_zip = neighborhood_by_zip[['NEIGHBORHOOD', 'ZIPCODES']]\n",
        "# # neighborhood_by_zip\n",
        "# neighborhood_dict = neighborhood_by_zip.to_dict() \n",
        "# neighborhood_dict\n",
        "\n",
        "neighborhood_zip_dict = {}\n",
        "\n",
        "for row in neighborhood_by_zip.iterrows():\n",
        "  data = row[1]\n",
        "  zipcodes = data[\"ZIPCODES\"].split(',')\n",
        "  zip_as_int = []\n",
        "  for zipcode in zipcodes:\n",
        "    zip_as_int.append(int(zipcode.strip()))\n",
        "\n",
        "  neighborhood_zip_dict[data[\"NEIGHBORHOOD\"]] = zip_as_int\n",
        "\n",
        "neighborhood_zip_dict"
      ],
      "execution_count": 0,
      "outputs": []
    },
    {
      "cell_type": "code",
      "metadata": {
        "id": "h5SazA60JB7X",
        "colab_type": "code",
        "colab": {}
      },
      "source": [
        "# health_grades"
      ],
      "execution_count": 0,
      "outputs": []
    },
    {
      "cell_type": "markdown",
      "metadata": {
        "id": "vMKFbWgDj6CG",
        "colab_type": "text"
      },
      "source": [
        "# Restaurant Search by ZIP and Name"
      ]
    },
    {
      "cell_type": "code",
      "metadata": {
        "id": "YnhxspX_damk",
        "colab_type": "code",
        "colab": {}
      },
      "source": [
        "rest_variable = input('name of resturant: ')\n",
        "rest_variable = rest_variable.upper()\n",
        "zip_variable = input('zipcode: ')\n",
        "zip_variable_float = float(zip_variable)\n",
        "\n",
        "health_grades_specific_restaurant= health_grades[health_grades['NAME'] == rest_variable]\n",
        "\n",
        "rest_in_zip = health_grades_specific_restaurant[health_grades_specific_restaurant['ZIPCODE'] == zip_variable_float]\n",
        "\n",
        "rest_in_zip['YEAR'].value_counts().head().plot(kind='bar', x='Year', y='Number of Critial Violations')\n",
        "plt.suptitle(rest_variable + ' Critical Violations located in ZIP ' + str(zip_variable))\n",
        "\n",
        "\n"
      ],
      "execution_count": 0,
      "outputs": []
    },
    {
      "cell_type": "code",
      "metadata": {
        "id": "ekWuZDJSz3RG",
        "colab_type": "code",
        "colab": {}
      },
      "source": [
        ""
      ],
      "execution_count": 0,
      "outputs": []
    },
    {
      "cell_type": "markdown",
      "metadata": {
        "id": "IcRF5GzDkEJD",
        "colab_type": "text"
      },
      "source": [
        "#If you want to see what violations they got... run the code below. \n",
        "Sorted by most recent violations"
      ]
    },
    {
      "cell_type": "code",
      "metadata": {
        "id": "FkHdVdqsj44V",
        "colab_type": "code",
        "colab": {}
      },
      "source": [
        "rest_in_zip.sort_values(by=['YEAR', 'INSPECTION DATE'] , ascending=[False, False])"
      ],
      "execution_count": 0,
      "outputs": []
    },
    {
      "cell_type": "markdown",
      "metadata": {
        "id": "rKZ9y0JBkDzc",
        "colab_type": "text"
      },
      "source": [
        ""
      ]
    },
    {
      "cell_type": "code",
      "metadata": {
        "id": "BzVDWUE-fesK",
        "colab_type": "code",
        "colab": {}
      },
      "source": [
        "health_grades_2019= health_grades[health_grades['YEAR'] == 2019]\n",
        "\n",
        "health_grades_2019['ZIPCODE'].value_counts().head(10).plot(kind='bar')\n",
        "plt.suptitle('TOP 10 ZIPS WITH MOST VIOLATIONS IN NYC IN 2019')\n"
      ],
      "execution_count": 0,
      "outputs": []
    },
    {
      "cell_type": "markdown",
      "metadata": {
        "id": "Fbg7NjpHfe76",
        "colab_type": "text"
      },
      "source": [
        ""
      ]
    },
    {
      "cell_type": "code",
      "metadata": {
        "id": "63znXl-ogfuO",
        "colab_type": "code",
        "colab": {}
      },
      "source": [
        "health_grades_2019['ZIPCODE'].value_counts().tail(10).plot(kind='bar')\n",
        "plt.suptitle('10 ZIPS WITH LEAST VIOLATIONS IN NYC IN 2019')\n",
        "\n"
      ],
      "execution_count": 0,
      "outputs": []
    },
    {
      "cell_type": "code",
      "metadata": {
        "id": "o_VNooKKfG7w",
        "colab_type": "code",
        "colab": {}
      },
      "source": [
        "health_grades_2019['CUISINE DESCRIPTION'].value_counts().head(10).plot(kind='bar')\n",
        "plt.suptitle('CUSINES WITH MOST VIOLATIONS IN NYC IN 2019')"
      ],
      "execution_count": 0,
      "outputs": []
    },
    {
      "cell_type": "code",
      "metadata": {
        "id": "PDGLpzc90QyA",
        "colab_type": "code",
        "colab": {}
      },
      "source": [
        ""
      ],
      "execution_count": 0,
      "outputs": []
    }
  ]
}