{
  "nbformat": 4,
  "nbformat_minor": 0,
  "metadata": {
    "colab": {
      "name": "Restaurant_Health_Inspection_ Analysis_PYTH122MW.ipynb",
      "provenance": [],
      "include_colab_link": true
    },
    "kernelspec": {
      "name": "python3",
      "display_name": "Python 3"
    }
  },
  "cells": [
    {
      "cell_type": "markdown",
      "metadata": {
        "id": "view-in-github",
        "colab_type": "text"
      },
      "source": [
        "<a href=\"https://colab.research.google.com/github/maggiewong8/NYC_restaurant_health_grades_analysis/blob/master/Restaurant_Health_Inspection__Analysis_PYTH122MW.ipynb\" target=\"_parent\"><img src=\"https://colab.research.google.com/assets/colab-badge.svg\" alt=\"Open In Colab\"/></a>"
      ]
    },
    {
      "cell_type": "markdown",
      "metadata": {
        "id": "DYbOX_J9DHQl",
        "colab_type": "text"
      },
      "source": [
        "\n",
        "# Where in the city has the most sanitary (and not) restaurants?\n",
        "---\n",
        "\n",
        "If you've ever walked past a restaurant or your favorite grab and go lunch spot, you've noticed a grade. I want to figure out where in the city has the most violations and where in the city has the cleanest restaurants in nyc.... also, which are potentially the most shocking not clean restuarants. is it your favorite restaurant?"
      ]
    },
    {
      "cell_type": "markdown",
      "metadata": {
        "id": "VAPCE195bcmf",
        "colab_type": "text"
      },
      "source": [
        "# Content Defined in Analysis \n",
        "\n",
        "Files: \n",
        "\n",
        "*   DOHMH_New_York_City_Restaurant_Inspection_Results.csv\n",
        "*   neighborhood_zipcodes.csv\n",
        "\n",
        "\n",
        "Data : \n",
        "\n",
        "\n",
        "*   health_grades\n",
        "*   health_grades_Y\n",
        "*   neighborhood_by_zip\n",
        "\n",
        "\n",
        "\n",
        "\n"
      ]
    },
    {
      "cell_type": "code",
      "metadata": {
        "id": "TAown1gabRoW",
        "colab_type": "code",
        "outputId": "9288ddad-c589-4138-e9da-d747426dc060",
        "colab": {
          "base_uri": "https://localhost:8080/",
          "height": 34
        }
      },
      "source": [
        "#IMPORT LIBRARIES FIRST\n",
        "import numpy as np\n",
        "import pandas as pd\n",
        "import matplotlib.pyplot as plt\n",
        "%matplotlib inline \n",
        "\n",
        "plt.style.use('fivethirtyeight') \n",
        "\n",
        "plt.rcParams['figure.figsize'] = (8, 6) \n",
        "plt.rcParams['font.size'] = 14\n",
        "\n",
        "print('done')"
      ],
      "execution_count": 1,
      "outputs": [
        {
          "output_type": "stream",
          "text": [
            "done\n"
          ],
          "name": "stdout"
        }
      ]
    },
    {
      "cell_type": "code",
      "metadata": {
        "id": "VgWR2tfkrewE",
        "colab_type": "code",
        "outputId": "c1dca100-2efe-487e-ea85-7b047ce571c9",
        "colab": {
          "base_uri": "https://localhost:8080/",
          "height": 121
        }
      },
      "source": [
        "from google.colab import drive\n",
        "drive.mount('/content/gdrive')"
      ],
      "execution_count": 2,
      "outputs": [
        {
          "output_type": "stream",
          "text": [
            "Go to this URL in a browser: https://accounts.google.com/o/oauth2/auth?client_id=947318989803-6bn6qk8qdgf4n4g3pfee6491hc0brc4i.apps.googleusercontent.com&redirect_uri=urn%3aietf%3awg%3aoauth%3a2.0%3aoob&response_type=code&scope=email%20https%3a%2f%2fwww.googleapis.com%2fauth%2fdocs.test%20https%3a%2f%2fwww.googleapis.com%2fauth%2fdrive%20https%3a%2f%2fwww.googleapis.com%2fauth%2fdrive.photos.readonly%20https%3a%2f%2fwww.googleapis.com%2fauth%2fpeopleapi.readonly\n",
            "\n",
            "Enter your authorization code:\n",
            "··········\n",
            "Mounted at /content/gdrive\n"
          ],
          "name": "stdout"
        }
      ]
    },
    {
      "cell_type": "code",
      "metadata": {
        "id": "EN_1x3u2r6Ht",
        "colab_type": "code",
        "outputId": "adaedc66-32ea-4f48-c096-828f50b5ec75",
        "colab": {
          "base_uri": "https://localhost:8080/",
          "height": 50
        }
      },
      "source": [
        "!ls '/content/gdrive/My Drive/Maggie Wong PYTH122'"
      ],
      "execution_count": 3,
      "outputs": [
        {
          "output_type": "stream",
          "text": [
            "DOHMH_New_York_City_Restaurant_Inspection_Results.csv\n",
            "neighborhood_zipcodes.csv\n"
          ],
          "name": "stdout"
        }
      ]
    },
    {
      "cell_type": "code",
      "metadata": {
        "id": "4Ijrq9XWrpL3",
        "colab_type": "code",
        "outputId": "968ef34b-975d-4ab4-970b-5cd6bd9594c0",
        "colab": {
          "base_uri": "https://localhost:8080/",
          "height": 34
        }
      },
      "source": [
        "# IMPORT DATASETS FROM GOOGLE DRIVE AND SOME TESTS BELOW\n",
        "health_grades_orig = pd.read_csv('/content/gdrive/My Drive/Maggie Wong PYTH122/DOHMH_New_York_City_Restaurant_Inspection_Results.csv')\n",
        "health_grades = health_grades_orig.copy()\n",
        "neighborhood_by_zip_orig = pd.read_csv('/content/gdrive/My Drive/Maggie Wong PYTH122/neighborhood_zipcodes.csv')\n",
        "neighborhood_by_zip = neighborhood_by_zip_orig\n",
        "\n",
        "print('done')"
      ],
      "execution_count": 4,
      "outputs": [
        {
          "output_type": "stream",
          "text": [
            "done\n"
          ],
          "name": "stdout"
        }
      ]
    },
    {
      "cell_type": "code",
      "metadata": {
        "id": "ki766Kb2hNEZ",
        "colab_type": "code",
        "outputId": "e8c3aafc-de36-49eb-d7d8-f5512340eb0b",
        "colab": {
          "base_uri": "https://localhost:8080/",
          "height": 1000
        }
      },
      "source": [
        "#Take a look at the raw restaurant inspection data available from NY Department of Health \n",
        "health_grades"
      ],
      "execution_count": 73,
      "outputs": [
        {
          "output_type": "execute_result",
          "data": {
            "text/html": [
              "<div>\n",
              "<style scoped>\n",
              "    .dataframe tbody tr th:only-of-type {\n",
              "        vertical-align: middle;\n",
              "    }\n",
              "\n",
              "    .dataframe tbody tr th {\n",
              "        vertical-align: top;\n",
              "    }\n",
              "\n",
              "    .dataframe thead th {\n",
              "        text-align: right;\n",
              "    }\n",
              "</style>\n",
              "<table border=\"1\" class=\"dataframe\">\n",
              "  <thead>\n",
              "    <tr style=\"text-align: right;\">\n",
              "      <th></th>\n",
              "      <th>CAMIS</th>\n",
              "      <th>DBA</th>\n",
              "      <th>BORO</th>\n",
              "      <th>BUILDING</th>\n",
              "      <th>STREET</th>\n",
              "      <th>ZIPCODE</th>\n",
              "      <th>PHONE</th>\n",
              "      <th>CUISINE DESCRIPTION</th>\n",
              "      <th>INSPECTION DATE</th>\n",
              "      <th>ACTION</th>\n",
              "      <th>VIOLATION CODE</th>\n",
              "      <th>VIOLATION DESCRIPTION</th>\n",
              "      <th>CRITICAL FLAG</th>\n",
              "      <th>SCORE</th>\n",
              "      <th>GRADE</th>\n",
              "      <th>GRADE DATE</th>\n",
              "      <th>RECORD DATE</th>\n",
              "      <th>INSPECTION TYPE</th>\n",
              "      <th>Latitude</th>\n",
              "      <th>Longitude</th>\n",
              "      <th>Community Board</th>\n",
              "      <th>Council District</th>\n",
              "      <th>Census Tract</th>\n",
              "      <th>BIN</th>\n",
              "      <th>BBL</th>\n",
              "      <th>NTA</th>\n",
              "    </tr>\n",
              "  </thead>\n",
              "  <tbody>\n",
              "    <tr>\n",
              "      <th>0</th>\n",
              "      <td>41650194</td>\n",
              "      <td>LUCEY'S LOUNGE</td>\n",
              "      <td>Brooklyn</td>\n",
              "      <td>475</td>\n",
              "      <td>3 AVENUE</td>\n",
              "      <td>11215.0</td>\n",
              "      <td>7188771075</td>\n",
              "      <td>American</td>\n",
              "      <td>07/22/2017</td>\n",
              "      <td>Violations were cited in the following area(s).</td>\n",
              "      <td>08A</td>\n",
              "      <td>Facility not vermin proof. Harborage or condit...</td>\n",
              "      <td>N</td>\n",
              "      <td>20.0</td>\n",
              "      <td>NaN</td>\n",
              "      <td>NaN</td>\n",
              "      <td>01/31/2020</td>\n",
              "      <td>Cycle Inspection / Initial Inspection</td>\n",
              "      <td>40.670716</td>\n",
              "      <td>-73.991622</td>\n",
              "      <td>306.0</td>\n",
              "      <td>39.0</td>\n",
              "      <td>12100.0</td>\n",
              "      <td>3022457.0</td>\n",
              "      <td>3.010150e+09</td>\n",
              "      <td>BK37</td>\n",
              "    </tr>\n",
              "    <tr>\n",
              "      <th>1</th>\n",
              "      <td>50006252</td>\n",
              "      <td>DIG INN SEASONAL MARKET</td>\n",
              "      <td>Manhattan</td>\n",
              "      <td>2884</td>\n",
              "      <td>BROADWAY</td>\n",
              "      <td>10025.0</td>\n",
              "      <td>2125457867</td>\n",
              "      <td>American</td>\n",
              "      <td>02/20/2018</td>\n",
              "      <td>Violations were cited in the following area(s).</td>\n",
              "      <td>02B</td>\n",
              "      <td>Hot food item not held at or above 140º F.</td>\n",
              "      <td>Y</td>\n",
              "      <td>7.0</td>\n",
              "      <td>A</td>\n",
              "      <td>02/20/2018</td>\n",
              "      <td>01/31/2020</td>\n",
              "      <td>Cycle Inspection / Re-inspection</td>\n",
              "      <td>40.805600</td>\n",
              "      <td>-73.965641</td>\n",
              "      <td>109.0</td>\n",
              "      <td>7.0</td>\n",
              "      <td>19900.0</td>\n",
              "      <td>1056989.0</td>\n",
              "      <td>1.018840e+09</td>\n",
              "      <td>MN09</td>\n",
              "    </tr>\n",
              "    <tr>\n",
              "      <th>2</th>\n",
              "      <td>50046623</td>\n",
              "      <td>COLD STONE CREAMERY</td>\n",
              "      <td>Brooklyn</td>\n",
              "      <td>139</td>\n",
              "      <td>FLATBUSH AVE</td>\n",
              "      <td>11217.0</td>\n",
              "      <td>7187892903</td>\n",
              "      <td>Ice Cream, Gelato, Yogurt, Ices</td>\n",
              "      <td>01/17/2018</td>\n",
              "      <td>Violations were cited in the following area(s).</td>\n",
              "      <td>10H</td>\n",
              "      <td>Proper sanitization not provided for utensil w...</td>\n",
              "      <td>N</td>\n",
              "      <td>45.0</td>\n",
              "      <td>NaN</td>\n",
              "      <td>NaN</td>\n",
              "      <td>01/31/2020</td>\n",
              "      <td>Cycle Inspection / Initial Inspection</td>\n",
              "      <td>40.684430</td>\n",
              "      <td>-73.977725</td>\n",
              "      <td>302.0</td>\n",
              "      <td>35.0</td>\n",
              "      <td>3500.0</td>\n",
              "      <td>3348849.0</td>\n",
              "      <td>3.020018e+09</td>\n",
              "      <td>BK68</td>\n",
              "    </tr>\n",
              "    <tr>\n",
              "      <th>3</th>\n",
              "      <td>50046957</td>\n",
              "      <td>KATE'S CORNER CAFE</td>\n",
              "      <td>Queens</td>\n",
              "      <td>4125</td>\n",
              "      <td>20TH AVE</td>\n",
              "      <td>11105.0</td>\n",
              "      <td>7189562929</td>\n",
              "      <td>American</td>\n",
              "      <td>07/24/2019</td>\n",
              "      <td>Violations were cited in the following area(s).</td>\n",
              "      <td>10F</td>\n",
              "      <td>Non-food contact surface improperly constructe...</td>\n",
              "      <td>N</td>\n",
              "      <td>17.0</td>\n",
              "      <td>NaN</td>\n",
              "      <td>NaN</td>\n",
              "      <td>01/31/2020</td>\n",
              "      <td>Cycle Inspection / Initial Inspection</td>\n",
              "      <td>40.775773</td>\n",
              "      <td>-73.900695</td>\n",
              "      <td>401.0</td>\n",
              "      <td>22.0</td>\n",
              "      <td>12301.0</td>\n",
              "      <td>4015652.0</td>\n",
              "      <td>4.008000e+09</td>\n",
              "      <td>QN72</td>\n",
              "    </tr>\n",
              "    <tr>\n",
              "      <th>4</th>\n",
              "      <td>40365166</td>\n",
              "      <td>CORNER BISTRO</td>\n",
              "      <td>Manhattan</td>\n",
              "      <td>331</td>\n",
              "      <td>WEST    4 STREET</td>\n",
              "      <td>10014.0</td>\n",
              "      <td>2122429502</td>\n",
              "      <td>American</td>\n",
              "      <td>12/12/2018</td>\n",
              "      <td>Violations were cited in the following area(s).</td>\n",
              "      <td>10F</td>\n",
              "      <td>Non-food contact surface improperly constructe...</td>\n",
              "      <td>N</td>\n",
              "      <td>20.0</td>\n",
              "      <td>NaN</td>\n",
              "      <td>NaN</td>\n",
              "      <td>01/31/2020</td>\n",
              "      <td>Cycle Inspection / Initial Inspection</td>\n",
              "      <td>40.737925</td>\n",
              "      <td>-74.003861</td>\n",
              "      <td>102.0</td>\n",
              "      <td>3.0</td>\n",
              "      <td>7700.0</td>\n",
              "      <td>1011036.0</td>\n",
              "      <td>1.006150e+09</td>\n",
              "      <td>MN23</td>\n",
              "    </tr>\n",
              "    <tr>\n",
              "      <th>...</th>\n",
              "      <td>...</td>\n",
              "      <td>...</td>\n",
              "      <td>...</td>\n",
              "      <td>...</td>\n",
              "      <td>...</td>\n",
              "      <td>...</td>\n",
              "      <td>...</td>\n",
              "      <td>...</td>\n",
              "      <td>...</td>\n",
              "      <td>...</td>\n",
              "      <td>...</td>\n",
              "      <td>...</td>\n",
              "      <td>...</td>\n",
              "      <td>...</td>\n",
              "      <td>...</td>\n",
              "      <td>...</td>\n",
              "      <td>...</td>\n",
              "      <td>...</td>\n",
              "      <td>...</td>\n",
              "      <td>...</td>\n",
              "      <td>...</td>\n",
              "      <td>...</td>\n",
              "      <td>...</td>\n",
              "      <td>...</td>\n",
              "      <td>...</td>\n",
              "      <td>...</td>\n",
              "    </tr>\n",
              "    <tr>\n",
              "      <th>400371</th>\n",
              "      <td>50037438</td>\n",
              "      <td>MEET THE MEAT</td>\n",
              "      <td>Queens</td>\n",
              "      <td>2392</td>\n",
              "      <td>21ST ST</td>\n",
              "      <td>11105.0</td>\n",
              "      <td>9176743328</td>\n",
              "      <td>Steak</td>\n",
              "      <td>02/09/2018</td>\n",
              "      <td>Violations were cited in the following area(s).</td>\n",
              "      <td>02B</td>\n",
              "      <td>Hot food item not held at or above 140º F.</td>\n",
              "      <td>Y</td>\n",
              "      <td>32.0</td>\n",
              "      <td>NaN</td>\n",
              "      <td>NaN</td>\n",
              "      <td>01/31/2020</td>\n",
              "      <td>Cycle Inspection / Initial Inspection</td>\n",
              "      <td>40.776797</td>\n",
              "      <td>-73.921306</td>\n",
              "      <td>401.0</td>\n",
              "      <td>22.0</td>\n",
              "      <td>9700.0</td>\n",
              "      <td>4437036.0</td>\n",
              "      <td>4.008908e+09</td>\n",
              "      <td>QN72</td>\n",
              "    </tr>\n",
              "    <tr>\n",
              "      <th>400372</th>\n",
              "      <td>50081544</td>\n",
              "      <td>GEISHA ASIAN CUISINE &amp; LOUNGE</td>\n",
              "      <td>Manhattan</td>\n",
              "      <td>3470</td>\n",
              "      <td>BROADWAY</td>\n",
              "      <td>10031.0</td>\n",
              "      <td>2128627800</td>\n",
              "      <td>Asian</td>\n",
              "      <td>06/27/2019</td>\n",
              "      <td>Establishment Closed by DOHMH.  Violations wer...</td>\n",
              "      <td>04M</td>\n",
              "      <td>Live roaches present in facility's food and/or...</td>\n",
              "      <td>Y</td>\n",
              "      <td>50.0</td>\n",
              "      <td>NaN</td>\n",
              "      <td>NaN</td>\n",
              "      <td>01/31/2020</td>\n",
              "      <td>Cycle Inspection / Re-inspection</td>\n",
              "      <td>40.824232</td>\n",
              "      <td>-73.952038</td>\n",
              "      <td>109.0</td>\n",
              "      <td>7.0</td>\n",
              "      <td>22500.0</td>\n",
              "      <td>1061828.0</td>\n",
              "      <td>1.020730e+09</td>\n",
              "      <td>MN04</td>\n",
              "    </tr>\n",
              "    <tr>\n",
              "      <th>400373</th>\n",
              "      <td>40942949</td>\n",
              "      <td>SNACK TAVERNA</td>\n",
              "      <td>Manhattan</td>\n",
              "      <td>63</td>\n",
              "      <td>BEDFORD STREET</td>\n",
              "      <td>10014.0</td>\n",
              "      <td>2129293499</td>\n",
              "      <td>Greek</td>\n",
              "      <td>08/16/2017</td>\n",
              "      <td>Violations were cited in the following area(s).</td>\n",
              "      <td>10F</td>\n",
              "      <td>Non-food contact surface improperly constructe...</td>\n",
              "      <td>N</td>\n",
              "      <td>22.0</td>\n",
              "      <td>NaN</td>\n",
              "      <td>NaN</td>\n",
              "      <td>01/31/2020</td>\n",
              "      <td>Cycle Inspection / Initial Inspection</td>\n",
              "      <td>40.731074</td>\n",
              "      <td>-74.004683</td>\n",
              "      <td>102.0</td>\n",
              "      <td>3.0</td>\n",
              "      <td>6700.0</td>\n",
              "      <td>1009837.0</td>\n",
              "      <td>1.005840e+09</td>\n",
              "      <td>MN23</td>\n",
              "    </tr>\n",
              "    <tr>\n",
              "      <th>400374</th>\n",
              "      <td>50072138</td>\n",
              "      <td>HUI'S GARDEN</td>\n",
              "      <td>Queens</td>\n",
              "      <td>4108</td>\n",
              "      <td>COLLEGE POINT BLVD</td>\n",
              "      <td>11355.0</td>\n",
              "      <td>7188881550</td>\n",
              "      <td>Chinese</td>\n",
              "      <td>10/11/2018</td>\n",
              "      <td>Violations were cited in the following area(s).</td>\n",
              "      <td>06C</td>\n",
              "      <td>Food not protected from potential source of co...</td>\n",
              "      <td>Y</td>\n",
              "      <td>36.0</td>\n",
              "      <td>NaN</td>\n",
              "      <td>NaN</td>\n",
              "      <td>01/31/2020</td>\n",
              "      <td>Cycle Inspection / Initial Inspection</td>\n",
              "      <td>40.756040</td>\n",
              "      <td>-73.833595</td>\n",
              "      <td>407.0</td>\n",
              "      <td>20.0</td>\n",
              "      <td>84900.0</td>\n",
              "      <td>4441757.0</td>\n",
              "      <td>4.050630e+09</td>\n",
              "      <td>QN22</td>\n",
              "    </tr>\n",
              "    <tr>\n",
              "      <th>400375</th>\n",
              "      <td>50086978</td>\n",
              "      <td>CITY ISLAND SEAFOOD SHACK</td>\n",
              "      <td>Bronx</td>\n",
              "      <td>2049</td>\n",
              "      <td>WILLIAMSBRIDGE RD</td>\n",
              "      <td>10461.0</td>\n",
              "      <td>9293713252</td>\n",
              "      <td>Seafood</td>\n",
              "      <td>07/05/2019</td>\n",
              "      <td>Violations were cited in the following area(s).</td>\n",
              "      <td>10B</td>\n",
              "      <td>Plumbing not properly installed or maintained;...</td>\n",
              "      <td>N</td>\n",
              "      <td>13.0</td>\n",
              "      <td>A</td>\n",
              "      <td>07/05/2019</td>\n",
              "      <td>01/31/2020</td>\n",
              "      <td>Pre-permit (Operational) / Initial Inspection</td>\n",
              "      <td>40.854798</td>\n",
              "      <td>-73.854880</td>\n",
              "      <td>211.0</td>\n",
              "      <td>13.0</td>\n",
              "      <td>24800.0</td>\n",
              "      <td>2100155.0</td>\n",
              "      <td>2.043060e+09</td>\n",
              "      <td>BX49</td>\n",
              "    </tr>\n",
              "  </tbody>\n",
              "</table>\n",
              "<p>400376 rows × 26 columns</p>\n",
              "</div>"
            ],
            "text/plain": [
              "           CAMIS                            DBA  ...           BBL   NTA\n",
              "0       41650194                 LUCEY'S LOUNGE  ...  3.010150e+09  BK37\n",
              "1       50006252        DIG INN SEASONAL MARKET  ...  1.018840e+09  MN09\n",
              "2       50046623            COLD STONE CREAMERY  ...  3.020018e+09  BK68\n",
              "3       50046957             KATE'S CORNER CAFE  ...  4.008000e+09  QN72\n",
              "4       40365166                  CORNER BISTRO  ...  1.006150e+09  MN23\n",
              "...          ...                            ...  ...           ...   ...\n",
              "400371  50037438                  MEET THE MEAT  ...  4.008908e+09  QN72\n",
              "400372  50081544  GEISHA ASIAN CUISINE & LOUNGE  ...  1.020730e+09  MN04\n",
              "400373  40942949                  SNACK TAVERNA  ...  1.005840e+09  MN23\n",
              "400374  50072138                   HUI'S GARDEN  ...  4.050630e+09  QN22\n",
              "400375  50086978      CITY ISLAND SEAFOOD SHACK  ...  2.043060e+09  BX49\n",
              "\n",
              "[400376 rows x 26 columns]"
            ]
          },
          "metadata": {
            "tags": []
          },
          "execution_count": 73
        }
      ]
    },
    {
      "cell_type": "code",
      "metadata": {
        "id": "JuFPs4QnYvBx",
        "colab_type": "code",
        "colab": {
          "base_uri": "https://localhost:8080/",
          "height": 1000
        },
        "outputId": "a7f4e94d-ff7d-4528-bdff-dfdfec6885bc"
      },
      "source": [
        "#Data above is missing neighborhood, so below is data mapping zips to neighborhoods\n",
        "neighborhood_by_zip"
      ],
      "execution_count": 5,
      "outputs": [
        {
          "output_type": "execute_result",
          "data": {
            "text/html": [
              "<div>\n",
              "<style scoped>\n",
              "    .dataframe tbody tr th:only-of-type {\n",
              "        vertical-align: middle;\n",
              "    }\n",
              "\n",
              "    .dataframe tbody tr th {\n",
              "        vertical-align: top;\n",
              "    }\n",
              "\n",
              "    .dataframe thead th {\n",
              "        text-align: right;\n",
              "    }\n",
              "</style>\n",
              "<table border=\"1\" class=\"dataframe\">\n",
              "  <thead>\n",
              "    <tr style=\"text-align: right;\">\n",
              "      <th></th>\n",
              "      <th>NEIGHBORHOOD</th>\n",
              "      <th>ZIPCODES</th>\n",
              "      <th>Unnamed: 2</th>\n",
              "    </tr>\n",
              "  </thead>\n",
              "  <tbody>\n",
              "    <tr>\n",
              "      <th>0</th>\n",
              "      <td>Central Bronx</td>\n",
              "      <td>10453, 10457, 10460</td>\n",
              "      <td>NaN</td>\n",
              "    </tr>\n",
              "    <tr>\n",
              "      <th>1</th>\n",
              "      <td>Bronx Park and Fordham</td>\n",
              "      <td>10458, 10467, 10468</td>\n",
              "      <td>NaN</td>\n",
              "    </tr>\n",
              "    <tr>\n",
              "      <th>2</th>\n",
              "      <td>High Bridge and Morrisania</td>\n",
              "      <td>10451, 10452, 10456</td>\n",
              "      <td>NaN</td>\n",
              "    </tr>\n",
              "    <tr>\n",
              "      <th>3</th>\n",
              "      <td>Hunts Point and Mott Haven</td>\n",
              "      <td>10454, 10455, 10459, 10474</td>\n",
              "      <td>NaN</td>\n",
              "    </tr>\n",
              "    <tr>\n",
              "      <th>4</th>\n",
              "      <td>Kingsbridge and Riverdale</td>\n",
              "      <td>10463, 10471</td>\n",
              "      <td>NaN</td>\n",
              "    </tr>\n",
              "    <tr>\n",
              "      <th>5</th>\n",
              "      <td>Northeast Bronx</td>\n",
              "      <td>10466, 10469, 10470, 10475</td>\n",
              "      <td>NaN</td>\n",
              "    </tr>\n",
              "    <tr>\n",
              "      <th>6</th>\n",
              "      <td>Southeast Bronx</td>\n",
              "      <td>10461, 10462,10464, 10465, 10472, 10473</td>\n",
              "      <td>NaN</td>\n",
              "    </tr>\n",
              "    <tr>\n",
              "      <th>7</th>\n",
              "      <td>Central Brooklyn</td>\n",
              "      <td>11212, 11213, 11216, 11233, 11238</td>\n",
              "      <td>NaN</td>\n",
              "    </tr>\n",
              "    <tr>\n",
              "      <th>8</th>\n",
              "      <td>Southwest Brooklyn</td>\n",
              "      <td>11209, 11214, 11228</td>\n",
              "      <td>NaN</td>\n",
              "    </tr>\n",
              "    <tr>\n",
              "      <th>9</th>\n",
              "      <td>Borough Park</td>\n",
              "      <td>11204, 11218, 11219, 11230</td>\n",
              "      <td>NaN</td>\n",
              "    </tr>\n",
              "    <tr>\n",
              "      <th>10</th>\n",
              "      <td>Canarsie and Flatlands</td>\n",
              "      <td>11234, 11236, 11239</td>\n",
              "      <td>NaN</td>\n",
              "    </tr>\n",
              "    <tr>\n",
              "      <th>11</th>\n",
              "      <td>Southern Brooklyn</td>\n",
              "      <td>11223, 11224, 11229, 11235</td>\n",
              "      <td>NaN</td>\n",
              "    </tr>\n",
              "    <tr>\n",
              "      <th>12</th>\n",
              "      <td>Northwest Brooklyn</td>\n",
              "      <td>11201, 11205, 11215, 11217, 11231</td>\n",
              "      <td>NaN</td>\n",
              "    </tr>\n",
              "    <tr>\n",
              "      <th>13</th>\n",
              "      <td>Flatbush</td>\n",
              "      <td>11203, 11210, 11225, 11226</td>\n",
              "      <td>NaN</td>\n",
              "    </tr>\n",
              "    <tr>\n",
              "      <th>14</th>\n",
              "      <td>East New York and New Lots</td>\n",
              "      <td>11207, 11208</td>\n",
              "      <td>NaN</td>\n",
              "    </tr>\n",
              "    <tr>\n",
              "      <th>15</th>\n",
              "      <td>Greenpoint</td>\n",
              "      <td>11211, 11222</td>\n",
              "      <td>NaN</td>\n",
              "    </tr>\n",
              "    <tr>\n",
              "      <th>16</th>\n",
              "      <td>Sunset Park</td>\n",
              "      <td>11220, 11232</td>\n",
              "      <td>NaN</td>\n",
              "    </tr>\n",
              "    <tr>\n",
              "      <th>17</th>\n",
              "      <td>Bushwick and Williamsburg</td>\n",
              "      <td>11206, 11221, 11237</td>\n",
              "      <td>NaN</td>\n",
              "    </tr>\n",
              "    <tr>\n",
              "      <th>18</th>\n",
              "      <td>Central Harlem</td>\n",
              "      <td>10026, 10027, 10030, 10037, 10039</td>\n",
              "      <td>NaN</td>\n",
              "    </tr>\n",
              "    <tr>\n",
              "      <th>19</th>\n",
              "      <td>Chelsea and Clinton</td>\n",
              "      <td>10001, 10011, 10018, 10019, 10020, 10036</td>\n",
              "      <td>NaN</td>\n",
              "    </tr>\n",
              "    <tr>\n",
              "      <th>20</th>\n",
              "      <td>East Harlem</td>\n",
              "      <td>10029, 10035</td>\n",
              "      <td>NaN</td>\n",
              "    </tr>\n",
              "    <tr>\n",
              "      <th>21</th>\n",
              "      <td>Gramercy Park and Murray Hill</td>\n",
              "      <td>10010, 10016, 10017, 10022</td>\n",
              "      <td>NaN</td>\n",
              "    </tr>\n",
              "    <tr>\n",
              "      <th>22</th>\n",
              "      <td>Greenwich Village and Soho</td>\n",
              "      <td>10012, 10013, 10014</td>\n",
              "      <td>NaN</td>\n",
              "    </tr>\n",
              "    <tr>\n",
              "      <th>23</th>\n",
              "      <td>Lower Manhattan</td>\n",
              "      <td>10004, 10005, 10006, 10007, 10038, 10280</td>\n",
              "      <td>NaN</td>\n",
              "    </tr>\n",
              "    <tr>\n",
              "      <th>24</th>\n",
              "      <td>Lower East Side</td>\n",
              "      <td>10002, 10003, 10009</td>\n",
              "      <td>NaN</td>\n",
              "    </tr>\n",
              "    <tr>\n",
              "      <th>25</th>\n",
              "      <td>Upper East Side</td>\n",
              "      <td>10021, 10028, 10044, 10065, 10075, 10128</td>\n",
              "      <td>NaN</td>\n",
              "    </tr>\n",
              "    <tr>\n",
              "      <th>26</th>\n",
              "      <td>Upper West Side</td>\n",
              "      <td>10023, 10024, 10025</td>\n",
              "      <td>NaN</td>\n",
              "    </tr>\n",
              "    <tr>\n",
              "      <th>27</th>\n",
              "      <td>Inwood and Washington Heights</td>\n",
              "      <td>10031, 10032, 10033, 10034, 10040</td>\n",
              "      <td>NaN</td>\n",
              "    </tr>\n",
              "    <tr>\n",
              "      <th>28</th>\n",
              "      <td>Northeast Queens</td>\n",
              "      <td>11361, 11362, 11363, 11364</td>\n",
              "      <td>NaN</td>\n",
              "    </tr>\n",
              "    <tr>\n",
              "      <th>29</th>\n",
              "      <td>North Queens</td>\n",
              "      <td>11354, 11355, 11356, 11357, 11358, 11359, 11360</td>\n",
              "      <td>NaN</td>\n",
              "    </tr>\n",
              "    <tr>\n",
              "      <th>30</th>\n",
              "      <td>Central Queens</td>\n",
              "      <td>11365, 11366, 11367</td>\n",
              "      <td>NaN</td>\n",
              "    </tr>\n",
              "    <tr>\n",
              "      <th>31</th>\n",
              "      <td>Jamaica</td>\n",
              "      <td>11412, 11423, 11432, 11433, 11434, 11435, 11436</td>\n",
              "      <td>NaN</td>\n",
              "    </tr>\n",
              "    <tr>\n",
              "      <th>32</th>\n",
              "      <td>Northwest Queens</td>\n",
              "      <td>11101, 11102, 11103, 11104, 11105, 11106</td>\n",
              "      <td>NaN</td>\n",
              "    </tr>\n",
              "    <tr>\n",
              "      <th>33</th>\n",
              "      <td>West Central Queens</td>\n",
              "      <td>11374, 11375, 11379, 11385</td>\n",
              "      <td>NaN</td>\n",
              "    </tr>\n",
              "    <tr>\n",
              "      <th>34</th>\n",
              "      <td>Rockaways</td>\n",
              "      <td>11691, 11692, 11693, 11694, 11695, 11697</td>\n",
              "      <td>NaN</td>\n",
              "    </tr>\n",
              "    <tr>\n",
              "      <th>35</th>\n",
              "      <td>Southeast Queens</td>\n",
              "      <td>11004, 11005, 11411, 11413, 11422, 11426, 1142...</td>\n",
              "      <td>NaN</td>\n",
              "    </tr>\n",
              "    <tr>\n",
              "      <th>36</th>\n",
              "      <td>Southwest Queens</td>\n",
              "      <td>11414, 11415, 11416, 11417, 11418, 11419, 1142...</td>\n",
              "      <td>NaN</td>\n",
              "    </tr>\n",
              "    <tr>\n",
              "      <th>37</th>\n",
              "      <td>West Queens</td>\n",
              "      <td>11368, 11369, 11370, 11372, 11373, 11377, 11378</td>\n",
              "      <td>NaN</td>\n",
              "    </tr>\n",
              "    <tr>\n",
              "      <th>38</th>\n",
              "      <td>Port Richmond</td>\n",
              "      <td>10302, 10303, 10310</td>\n",
              "      <td>NaN</td>\n",
              "    </tr>\n",
              "    <tr>\n",
              "      <th>39</th>\n",
              "      <td>South Shore</td>\n",
              "      <td>10306, 10307, 10308, 10309, 10312</td>\n",
              "      <td>NaN</td>\n",
              "    </tr>\n",
              "    <tr>\n",
              "      <th>40</th>\n",
              "      <td>Stapleton and St. George</td>\n",
              "      <td>10301, 10304, 10305</td>\n",
              "      <td>NaN</td>\n",
              "    </tr>\n",
              "    <tr>\n",
              "      <th>41</th>\n",
              "      <td>Mid-Island</td>\n",
              "      <td>10314</td>\n",
              "      <td>NaN</td>\n",
              "    </tr>\n",
              "  </tbody>\n",
              "</table>\n",
              "</div>"
            ],
            "text/plain": [
              "                     NEIGHBORHOOD  ... Unnamed: 2\n",
              "0                   Central Bronx  ...        NaN\n",
              "1          Bronx Park and Fordham  ...        NaN\n",
              "2      High Bridge and Morrisania  ...        NaN\n",
              "3      Hunts Point and Mott Haven  ...        NaN\n",
              "4       Kingsbridge and Riverdale  ...        NaN\n",
              "5                 Northeast Bronx  ...        NaN\n",
              "6                 Southeast Bronx  ...        NaN\n",
              "7                Central Brooklyn  ...        NaN\n",
              "8              Southwest Brooklyn  ...        NaN\n",
              "9                    Borough Park  ...        NaN\n",
              "10         Canarsie and Flatlands  ...        NaN\n",
              "11              Southern Brooklyn  ...        NaN\n",
              "12             Northwest Brooklyn  ...        NaN\n",
              "13                       Flatbush  ...        NaN\n",
              "14     East New York and New Lots  ...        NaN\n",
              "15                     Greenpoint  ...        NaN\n",
              "16                    Sunset Park  ...        NaN\n",
              "17      Bushwick and Williamsburg  ...        NaN\n",
              "18                 Central Harlem  ...        NaN\n",
              "19            Chelsea and Clinton  ...        NaN\n",
              "20                    East Harlem  ...        NaN\n",
              "21  Gramercy Park and Murray Hill  ...        NaN\n",
              "22     Greenwich Village and Soho  ...        NaN\n",
              "23                Lower Manhattan  ...        NaN\n",
              "24                Lower East Side  ...        NaN\n",
              "25                Upper East Side  ...        NaN\n",
              "26                Upper West Side  ...        NaN\n",
              "27  Inwood and Washington Heights  ...        NaN\n",
              "28               Northeast Queens  ...        NaN\n",
              "29                   North Queens  ...        NaN\n",
              "30                 Central Queens  ...        NaN\n",
              "31                        Jamaica  ...        NaN\n",
              "32               Northwest Queens  ...        NaN\n",
              "33            West Central Queens  ...        NaN\n",
              "34                      Rockaways  ...        NaN\n",
              "35               Southeast Queens  ...        NaN\n",
              "36               Southwest Queens  ...        NaN\n",
              "37                    West Queens  ...        NaN\n",
              "38                  Port Richmond  ...        NaN\n",
              "39                    South Shore  ...        NaN\n",
              "40       Stapleton and St. George  ...        NaN\n",
              "41                     Mid-Island  ...        NaN\n",
              "\n",
              "[42 rows x 3 columns]"
            ]
          },
          "metadata": {
            "tags": []
          },
          "execution_count": 5
        }
      ]
    },
    {
      "cell_type": "markdown",
      "metadata": {
        "id": "LmsbpHchGg25",
        "colab_type": "text"
      },
      "source": [
        "# Let's make this dataset readable and useful for our study. \n",
        "We are going to only include critical flag violations, which includes:\n",
        "\n",
        "*   Food at wrong temp \n",
        "*   Not having sink \n",
        "*   Vermon (ew)\n",
        "\n",
        "For more info https://www1.nyc.gov/assets/doh/downloads/pdf/rii/blue-book.pdf"
      ]
    },
    {
      "cell_type": "code",
      "metadata": {
        "id": "yOb47eFaeCMi",
        "colab_type": "code",
        "colab": {}
      },
      "source": [
        "#Remove extra columns\n",
        "health_grades = health_grades[['DBA', 'CUISINE DESCRIPTION', 'BORO', 'BUILDING', 'STREET', 'ZIPCODE', 'INSPECTION DATE', 'CRITICAL FLAG', 'VIOLATION DESCRIPTION' ]]"
      ],
      "execution_count": 0,
      "outputs": []
    },
    {
      "cell_type": "code",
      "metadata": {
        "id": "0LKMVcqvfoox",
        "colab_type": "code",
        "outputId": "642f9684-eec2-48be-df2f-a30af93cc3d6",
        "colab": {
          "base_uri": "https://localhost:8080/",
          "height": 67
        }
      },
      "source": [
        "#Rename DBA to NAME\n",
        "health_grades.rename(columns={'DBA': 'NAME'}, inplace=True)\n",
        "health_grades.columns"
      ],
      "execution_count": 8,
      "outputs": [
        {
          "output_type": "execute_result",
          "data": {
            "text/plain": [
              "Index(['NAME', 'CUISINE DESCRIPTION', 'BORO', 'BUILDING', 'STREET', 'ZIPCODE',\n",
              "       'INSPECTION DATE', 'CRITICAL FLAG', 'VIOLATION DESCRIPTION'],\n",
              "      dtype='object')"
            ]
          },
          "metadata": {
            "tags": []
          },
          "execution_count": 8
        }
      ]
    },
    {
      "cell_type": "markdown",
      "metadata": {
        "id": "G8114TwO0WYt",
        "colab_type": "text"
      },
      "source": [
        "# Convert the zipcodess to neighborhoods , so that it's more user friendly"
      ]
    },
    {
      "cell_type": "code",
      "metadata": {
        "id": "inAtoI4P6pZ7",
        "colab_type": "code",
        "colab": {}
      },
      "source": [
        "#Convert pandas dataframe neighborhood_by_zip to a dict so that we can add a column of neighborhoods to health_grades\n",
        "neighborhood_zip_dict = {}\n",
        "\n",
        "i = 0\n",
        "for row in neighborhood_by_zip.iterrows():\n",
        "  data = row[1]\n",
        "  zipcodes = data[\"ZIPCODES\"].split(',')\n",
        "  n = data[\"NEIGHBORHOOD\"]\n",
        "  for zipcode in zipcodes:\n",
        "    neighborhood_zip_dict[float(zipcode.strip())] = n"
      ],
      "execution_count": 0,
      "outputs": []
    },
    {
      "cell_type": "code",
      "metadata": {
        "id": "htchgKcK7CWq",
        "colab_type": "code",
        "colab": {}
      },
      "source": [
        "#Add a column to health_grades using dict above, account for nans via Not Reported\n",
        "health_grades['NEIGHBORHOOD'] = health_grades['ZIPCODE'].map(lambda zip_: neighborhood_zip_dict.get(zip_, \"Not Reported\"))\n"
      ],
      "execution_count": 0,
      "outputs": []
    },
    {
      "cell_type": "markdown",
      "metadata": {
        "id": "WbTBfJHveHAV",
        "colab_type": "text"
      },
      "source": [
        "# Then, let's add a year column, so that we can display trends over the years and break out critical violations vs minor ones"
      ]
    },
    {
      "cell_type": "code",
      "metadata": {
        "id": "bTH-QxTDdmXg",
        "colab_type": "code",
        "colab": {}
      },
      "source": [
        "#Use the date column to pull out the year and make it a new column\n",
        "health_grades['YEAR'] = pd.to_datetime(health_grades['INSPECTION DATE']).dt.year\n",
        "health_grades = health_grades[['NAME', 'CUISINE DESCRIPTION', 'BORO', 'BUILDING', 'STREET', 'ZIPCODE', 'NEIGHBORHOOD', 'YEAR', 'INSPECTION DATE', 'CRITICAL FLAG', 'VIOLATION DESCRIPTION' ]]\n"
      ],
      "execution_count": 0,
      "outputs": []
    },
    {
      "cell_type": "code",
      "metadata": {
        "id": "SeJD9WCZa9IU",
        "colab_type": "code",
        "colab": {}
      },
      "source": [
        "#Break out critical violations from minor ones by defining new data frame \n",
        "health_grades_Y = health_grades[health_grades['CRITICAL FLAG'] == 'Y']"
      ],
      "execution_count": 0,
      "outputs": []
    },
    {
      "cell_type": "markdown",
      "metadata": {
        "id": "vMKFbWgDj6CG",
        "colab_type": "text"
      },
      "source": [
        "# Restaurant Search by ZIP and Name"
      ]
    },
    {
      "cell_type": "code",
      "metadata": {
        "id": "YnhxspX_damk",
        "colab_type": "code",
        "outputId": "1db49733-3113-406e-d60c-9603dfedca47",
        "colab": {
          "base_uri": "https://localhost:8080/",
          "height": 458
        }
      },
      "source": [
        "#USER INPUTS: RESTAURANT NAME AND ZIPCODE\n",
        "rest_variable = input('name of resturant: ')\n",
        "rest_variable = rest_variable.upper()\n",
        "\n",
        "zip_variable = input('zipcode: ')\n",
        "zip_variable_float = float(zip_variable)\n",
        "\n",
        "#LOOK UP THE RESTUARANT BY AREA\n",
        "matches = health_grades[\"NAME\"].str.startswith(rest_variable, na=False) \n",
        "health_grades_specific_restaurant = health_grades_Y[matches]\n",
        "\n",
        "rest_in_zip = health_grades_specific_restaurant[health_grades_specific_restaurant['ZIPCODE'] == zip_variable_float]\n",
        "\n",
        "rest_in_zip\n",
        "\n",
        "rest_in_zip['YEAR'].value_counts()\n",
        "# .plot(kind='bar', x='Year', y='Number of Critial Violations')\n",
        "\n",
        "\n",
        "# plt.suptitle(rest_variable + ' Critical Violations located in ZIP ' + str(zip_variable))\n",
        "\n",
        "\n"
      ],
      "execution_count": 0,
      "outputs": [
        {
          "output_type": "stream",
          "text": [
            "name of resturant: dig inn\n",
            "zipcode: 10005\n"
          ],
          "name": "stdout"
        },
        {
          "output_type": "stream",
          "text": [
            "/usr/local/lib/python3.6/dist-packages/ipykernel_launcher.py:9: UserWarning: Boolean Series key will be reindexed to match DataFrame index.\n",
            "  if __name__ == '__main__':\n"
          ],
          "name": "stderr"
        },
        {
          "output_type": "error",
          "ename": "ValueError",
          "evalue": "ignored",
          "traceback": [
            "\u001b[0;31m---------------------------------------------------------------------------\u001b[0m",
            "\u001b[0;31mValueError\u001b[0m                                Traceback (most recent call last)",
            "\u001b[0;32m<ipython-input-67-9ff5f6af100d>\u001b[0m in \u001b[0;36m<module>\u001b[0;34m()\u001b[0m\n\u001b[1;32m     13\u001b[0m \u001b[0mrest_in_zip\u001b[0m\u001b[0;34m\u001b[0m\u001b[0;34m\u001b[0m\u001b[0m\n\u001b[1;32m     14\u001b[0m \u001b[0;34m\u001b[0m\u001b[0m\n\u001b[0;32m---> 15\u001b[0;31m \u001b[0mrest_in_zip\u001b[0m\u001b[0;34m[\u001b[0m\u001b[0;34m'YEAR'\u001b[0m\u001b[0;34m]\u001b[0m\u001b[0;34m.\u001b[0m\u001b[0mvalue_counts\u001b[0m\u001b[0;34m(\u001b[0m\u001b[0;34m)\u001b[0m\u001b[0;34m.\u001b[0m\u001b[0msort_values\u001b[0m\u001b[0;34m(\u001b[0m\u001b[0;34m'YEAR'\u001b[0m\u001b[0;34m)\u001b[0m\u001b[0;34m\u001b[0m\u001b[0;34m\u001b[0m\u001b[0m\n\u001b[0m\u001b[1;32m     16\u001b[0m \u001b[0;31m# .plot(kind='bar', x='Year', y='Number of Critial Violations')\u001b[0m\u001b[0;34m\u001b[0m\u001b[0;34m\u001b[0m\u001b[0;34m\u001b[0m\u001b[0m\n\u001b[1;32m     17\u001b[0m \u001b[0;34m\u001b[0m\u001b[0m\n",
            "\u001b[0;32m/usr/local/lib/python3.6/dist-packages/pandas/core/series.py\u001b[0m in \u001b[0;36msort_values\u001b[0;34m(self, axis, ascending, inplace, kind, na_position)\u001b[0m\n\u001b[1;32m   3138\u001b[0m         \u001b[0minplace\u001b[0m \u001b[0;34m=\u001b[0m \u001b[0mvalidate_bool_kwarg\u001b[0m\u001b[0;34m(\u001b[0m\u001b[0minplace\u001b[0m\u001b[0;34m,\u001b[0m \u001b[0;34m\"inplace\"\u001b[0m\u001b[0;34m)\u001b[0m\u001b[0;34m\u001b[0m\u001b[0;34m\u001b[0m\u001b[0m\n\u001b[1;32m   3139\u001b[0m         \u001b[0;31m# Validate the axis parameter\u001b[0m\u001b[0;34m\u001b[0m\u001b[0;34m\u001b[0m\u001b[0;34m\u001b[0m\u001b[0m\n\u001b[0;32m-> 3140\u001b[0;31m         \u001b[0mself\u001b[0m\u001b[0;34m.\u001b[0m\u001b[0m_get_axis_number\u001b[0m\u001b[0;34m(\u001b[0m\u001b[0maxis\u001b[0m\u001b[0;34m)\u001b[0m\u001b[0;34m\u001b[0m\u001b[0;34m\u001b[0m\u001b[0m\n\u001b[0m\u001b[1;32m   3141\u001b[0m \u001b[0;34m\u001b[0m\u001b[0m\n\u001b[1;32m   3142\u001b[0m         \u001b[0;31m# GH 5856/5853\u001b[0m\u001b[0;34m\u001b[0m\u001b[0;34m\u001b[0m\u001b[0;34m\u001b[0m\u001b[0m\n",
            "\u001b[0;32m/usr/local/lib/python3.6/dist-packages/pandas/core/generic.py\u001b[0m in \u001b[0;36m_get_axis_number\u001b[0;34m(cls, axis)\u001b[0m\n\u001b[1;32m    409\u001b[0m             \u001b[0;32mexcept\u001b[0m \u001b[0mKeyError\u001b[0m\u001b[0;34m:\u001b[0m\u001b[0;34m\u001b[0m\u001b[0;34m\u001b[0m\u001b[0m\n\u001b[1;32m    410\u001b[0m                 \u001b[0;32mpass\u001b[0m\u001b[0;34m\u001b[0m\u001b[0;34m\u001b[0m\u001b[0m\n\u001b[0;32m--> 411\u001b[0;31m         \u001b[0;32mraise\u001b[0m \u001b[0mValueError\u001b[0m\u001b[0;34m(\u001b[0m\u001b[0;34m\"No axis named {0} for object type {1}\"\u001b[0m\u001b[0;34m.\u001b[0m\u001b[0mformat\u001b[0m\u001b[0;34m(\u001b[0m\u001b[0maxis\u001b[0m\u001b[0;34m,\u001b[0m \u001b[0mcls\u001b[0m\u001b[0;34m)\u001b[0m\u001b[0;34m)\u001b[0m\u001b[0;34m\u001b[0m\u001b[0;34m\u001b[0m\u001b[0m\n\u001b[0m\u001b[1;32m    412\u001b[0m \u001b[0;34m\u001b[0m\u001b[0m\n\u001b[1;32m    413\u001b[0m     \u001b[0;34m@\u001b[0m\u001b[0mclassmethod\u001b[0m\u001b[0;34m\u001b[0m\u001b[0;34m\u001b[0m\u001b[0m\n",
            "\u001b[0;31mValueError\u001b[0m: No axis named YEAR for object type <class 'pandas.core.series.Series'>"
          ]
        }
      ]
    },
    {
      "cell_type": "code",
      "metadata": {
        "id": "ekWuZDJSz3RG",
        "colab_type": "code",
        "colab": {}
      },
      "source": [
        ""
      ],
      "execution_count": 0,
      "outputs": []
    },
    {
      "cell_type": "markdown",
      "metadata": {
        "id": "IcRF5GzDkEJD",
        "colab_type": "text"
      },
      "source": [
        "#If you want to see what violations they got... run the code below. \n",
        "Sorted by most recent violations"
      ]
    },
    {
      "cell_type": "code",
      "metadata": {
        "id": "FkHdVdqsj44V",
        "colab_type": "code",
        "outputId": "7c3b4f6f-7010-4a15-930a-21e065f3991b",
        "colab": {
          "base_uri": "https://localhost:8080/",
          "height": 576
        }
      },
      "source": [
        "rest_in_zip.sort_values(by=['YEAR', 'INSPECTION DATE'] , ascending=[False, False])"
      ],
      "execution_count": 0,
      "outputs": [
        {
          "output_type": "execute_result",
          "data": {
            "text/html": [
              "<div>\n",
              "<style scoped>\n",
              "    .dataframe tbody tr th:only-of-type {\n",
              "        vertical-align: middle;\n",
              "    }\n",
              "\n",
              "    .dataframe tbody tr th {\n",
              "        vertical-align: top;\n",
              "    }\n",
              "\n",
              "    .dataframe thead th {\n",
              "        text-align: right;\n",
              "    }\n",
              "</style>\n",
              "<table border=\"1\" class=\"dataframe\">\n",
              "  <thead>\n",
              "    <tr style=\"text-align: right;\">\n",
              "      <th></th>\n",
              "      <th>NAME</th>\n",
              "      <th>CUISINE DESCRIPTION</th>\n",
              "      <th>BORO</th>\n",
              "      <th>BUILDING</th>\n",
              "      <th>STREET</th>\n",
              "      <th>ZIPCODE</th>\n",
              "      <th>NEIGHBORHOOD</th>\n",
              "      <th>YEAR</th>\n",
              "      <th>INSPECTION DATE</th>\n",
              "      <th>CRITICAL FLAG</th>\n",
              "      <th>VIOLATION DESCRIPTION</th>\n",
              "    </tr>\n",
              "  </thead>\n",
              "  <tbody>\n",
              "    <tr>\n",
              "      <th>209906</th>\n",
              "      <td>DIG INN</td>\n",
              "      <td>American</td>\n",
              "      <td>Manhattan</td>\n",
              "      <td>80</td>\n",
              "      <td>PINE ST</td>\n",
              "      <td>10005.0</td>\n",
              "      <td>Lower Manhattan</td>\n",
              "      <td>2019</td>\n",
              "      <td>10/15/2019</td>\n",
              "      <td>Y</td>\n",
              "      <td>Hot food item not held at or above 140º F.</td>\n",
              "    </tr>\n",
              "    <tr>\n",
              "      <th>5536</th>\n",
              "      <td>DIG INN</td>\n",
              "      <td>American</td>\n",
              "      <td>Manhattan</td>\n",
              "      <td>80</td>\n",
              "      <td>PINE ST</td>\n",
              "      <td>10005.0</td>\n",
              "      <td>Lower Manhattan</td>\n",
              "      <td>2019</td>\n",
              "      <td>10/04/2019</td>\n",
              "      <td>Y</td>\n",
              "      <td>Food contact surface not properly washed, rins...</td>\n",
              "    </tr>\n",
              "    <tr>\n",
              "      <th>168038</th>\n",
              "      <td>DIG INN</td>\n",
              "      <td>American</td>\n",
              "      <td>Manhattan</td>\n",
              "      <td>80</td>\n",
              "      <td>PINE ST</td>\n",
              "      <td>10005.0</td>\n",
              "      <td>Lower Manhattan</td>\n",
              "      <td>2019</td>\n",
              "      <td>10/04/2019</td>\n",
              "      <td>Y</td>\n",
              "      <td>Food not cooled by an approved method whereby ...</td>\n",
              "    </tr>\n",
              "    <tr>\n",
              "      <th>203321</th>\n",
              "      <td>DIG INN</td>\n",
              "      <td>American</td>\n",
              "      <td>Manhattan</td>\n",
              "      <td>80</td>\n",
              "      <td>PINE ST</td>\n",
              "      <td>10005.0</td>\n",
              "      <td>Lower Manhattan</td>\n",
              "      <td>2019</td>\n",
              "      <td>10/04/2019</td>\n",
              "      <td>Y</td>\n",
              "      <td>Hot food item not held at or above 140º F.</td>\n",
              "    </tr>\n",
              "    <tr>\n",
              "      <th>222772</th>\n",
              "      <td>DIG INN</td>\n",
              "      <td>American</td>\n",
              "      <td>Manhattan</td>\n",
              "      <td>80</td>\n",
              "      <td>PINE ST</td>\n",
              "      <td>10005.0</td>\n",
              "      <td>Lower Manhattan</td>\n",
              "      <td>2019</td>\n",
              "      <td>10/04/2019</td>\n",
              "      <td>Y</td>\n",
              "      <td>Cold food item held above 41º F (smoked fish a...</td>\n",
              "    </tr>\n",
              "    <tr>\n",
              "      <th>31243</th>\n",
              "      <td>DIG INN</td>\n",
              "      <td>American</td>\n",
              "      <td>Manhattan</td>\n",
              "      <td>80</td>\n",
              "      <td>PINE ST</td>\n",
              "      <td>10005.0</td>\n",
              "      <td>Lower Manhattan</td>\n",
              "      <td>2019</td>\n",
              "      <td>05/10/2019</td>\n",
              "      <td>Y</td>\n",
              "      <td>Hand washing facility not provided in or near ...</td>\n",
              "    </tr>\n",
              "    <tr>\n",
              "      <th>51697</th>\n",
              "      <td>DIG INN</td>\n",
              "      <td>American</td>\n",
              "      <td>Manhattan</td>\n",
              "      <td>80</td>\n",
              "      <td>PINE ST</td>\n",
              "      <td>10005.0</td>\n",
              "      <td>Lower Manhattan</td>\n",
              "      <td>2019</td>\n",
              "      <td>03/20/2019</td>\n",
              "      <td>Y</td>\n",
              "      <td>Cold food item held above 41º F (smoked fish a...</td>\n",
              "    </tr>\n",
              "    <tr>\n",
              "      <th>135663</th>\n",
              "      <td>DIG INN</td>\n",
              "      <td>American</td>\n",
              "      <td>Manhattan</td>\n",
              "      <td>80</td>\n",
              "      <td>PINE ST</td>\n",
              "      <td>10005.0</td>\n",
              "      <td>Lower Manhattan</td>\n",
              "      <td>2019</td>\n",
              "      <td>03/20/2019</td>\n",
              "      <td>Y</td>\n",
              "      <td>Tobacco use, eating, or drinking from open con...</td>\n",
              "    </tr>\n",
              "    <tr>\n",
              "      <th>145653</th>\n",
              "      <td>DIG INN</td>\n",
              "      <td>American</td>\n",
              "      <td>Manhattan</td>\n",
              "      <td>80</td>\n",
              "      <td>PINE ST</td>\n",
              "      <td>10005.0</td>\n",
              "      <td>Lower Manhattan</td>\n",
              "      <td>2018</td>\n",
              "      <td>03/23/2018</td>\n",
              "      <td>Y</td>\n",
              "      <td>Wiping cloths soiled or not stored in sanitizi...</td>\n",
              "    </tr>\n",
              "    <tr>\n",
              "      <th>383688</th>\n",
              "      <td>DIG INN</td>\n",
              "      <td>American</td>\n",
              "      <td>Manhattan</td>\n",
              "      <td>80</td>\n",
              "      <td>PINE ST</td>\n",
              "      <td>10005.0</td>\n",
              "      <td>Lower Manhattan</td>\n",
              "      <td>2018</td>\n",
              "      <td>03/23/2018</td>\n",
              "      <td>Y</td>\n",
              "      <td>Food contact surface not properly washed, rins...</td>\n",
              "    </tr>\n",
              "    <tr>\n",
              "      <th>58953</th>\n",
              "      <td>DIG INN</td>\n",
              "      <td>American</td>\n",
              "      <td>Manhattan</td>\n",
              "      <td>80</td>\n",
              "      <td>PINE ST</td>\n",
              "      <td>10005.0</td>\n",
              "      <td>Lower Manhattan</td>\n",
              "      <td>2017</td>\n",
              "      <td>09/25/2017</td>\n",
              "      <td>Y</td>\n",
              "      <td>Food not cooled by an approved method whereby ...</td>\n",
              "    </tr>\n",
              "    <tr>\n",
              "      <th>78875</th>\n",
              "      <td>DIG INN</td>\n",
              "      <td>American</td>\n",
              "      <td>Manhattan</td>\n",
              "      <td>80</td>\n",
              "      <td>PINE ST</td>\n",
              "      <td>10005.0</td>\n",
              "      <td>Lower Manhattan</td>\n",
              "      <td>2017</td>\n",
              "      <td>09/25/2017</td>\n",
              "      <td>Y</td>\n",
              "      <td>Cold food item held above 41º F (smoked fish a...</td>\n",
              "    </tr>\n",
              "    <tr>\n",
              "      <th>143413</th>\n",
              "      <td>DIG INN</td>\n",
              "      <td>American</td>\n",
              "      <td>Manhattan</td>\n",
              "      <td>80</td>\n",
              "      <td>PINE ST</td>\n",
              "      <td>10005.0</td>\n",
              "      <td>Lower Manhattan</td>\n",
              "      <td>2017</td>\n",
              "      <td>09/25/2017</td>\n",
              "      <td>Y</td>\n",
              "      <td>Hot food item not held at or above 140º F.</td>\n",
              "    </tr>\n",
              "    <tr>\n",
              "      <th>322314</th>\n",
              "      <td>DIG INN</td>\n",
              "      <td>American</td>\n",
              "      <td>Manhattan</td>\n",
              "      <td>80</td>\n",
              "      <td>PINE ST</td>\n",
              "      <td>10005.0</td>\n",
              "      <td>Lower Manhattan</td>\n",
              "      <td>2017</td>\n",
              "      <td>09/25/2017</td>\n",
              "      <td>Y</td>\n",
              "      <td>Filth flies or food/refuse/sewage-associated (...</td>\n",
              "    </tr>\n",
              "    <tr>\n",
              "      <th>267840</th>\n",
              "      <td>DIG INN</td>\n",
              "      <td>American</td>\n",
              "      <td>Manhattan</td>\n",
              "      <td>80</td>\n",
              "      <td>PINE ST</td>\n",
              "      <td>10005.0</td>\n",
              "      <td>Lower Manhattan</td>\n",
              "      <td>2017</td>\n",
              "      <td>08/28/2017</td>\n",
              "      <td>Y</td>\n",
              "      <td>Cold food item held above 41º F (smoked fish a...</td>\n",
              "    </tr>\n",
              "    <tr>\n",
              "      <th>324950</th>\n",
              "      <td>DIG INN</td>\n",
              "      <td>American</td>\n",
              "      <td>Manhattan</td>\n",
              "      <td>80</td>\n",
              "      <td>PINE ST</td>\n",
              "      <td>10005.0</td>\n",
              "      <td>Lower Manhattan</td>\n",
              "      <td>2017</td>\n",
              "      <td>08/28/2017</td>\n",
              "      <td>Y</td>\n",
              "      <td>Personal cleanliness inadequate. Outer garment...</td>\n",
              "    </tr>\n",
              "    <tr>\n",
              "      <th>367990</th>\n",
              "      <td>DIG INN</td>\n",
              "      <td>American</td>\n",
              "      <td>Manhattan</td>\n",
              "      <td>80</td>\n",
              "      <td>PINE ST</td>\n",
              "      <td>10005.0</td>\n",
              "      <td>Lower Manhattan</td>\n",
              "      <td>2017</td>\n",
              "      <td>08/28/2017</td>\n",
              "      <td>Y</td>\n",
              "      <td>Filth flies or food/refuse/sewage-associated (...</td>\n",
              "    </tr>\n",
              "  </tbody>\n",
              "</table>\n",
              "</div>"
            ],
            "text/plain": [
              "           NAME  ...                              VIOLATION DESCRIPTION\n",
              "209906  DIG INN  ...         Hot food item not held at or above 140º F.\n",
              "5536    DIG INN  ...  Food contact surface not properly washed, rins...\n",
              "168038  DIG INN  ...  Food not cooled by an approved method whereby ...\n",
              "203321  DIG INN  ...         Hot food item not held at or above 140º F.\n",
              "222772  DIG INN  ...  Cold food item held above 41º F (smoked fish a...\n",
              "31243   DIG INN  ...  Hand washing facility not provided in or near ...\n",
              "51697   DIG INN  ...  Cold food item held above 41º F (smoked fish a...\n",
              "135663  DIG INN  ...  Tobacco use, eating, or drinking from open con...\n",
              "145653  DIG INN  ...  Wiping cloths soiled or not stored in sanitizi...\n",
              "383688  DIG INN  ...  Food contact surface not properly washed, rins...\n",
              "58953   DIG INN  ...  Food not cooled by an approved method whereby ...\n",
              "78875   DIG INN  ...  Cold food item held above 41º F (smoked fish a...\n",
              "143413  DIG INN  ...         Hot food item not held at or above 140º F.\n",
              "322314  DIG INN  ...  Filth flies or food/refuse/sewage-associated (...\n",
              "267840  DIG INN  ...  Cold food item held above 41º F (smoked fish a...\n",
              "324950  DIG INN  ...  Personal cleanliness inadequate. Outer garment...\n",
              "367990  DIG INN  ...  Filth flies or food/refuse/sewage-associated (...\n",
              "\n",
              "[17 rows x 11 columns]"
            ]
          },
          "metadata": {
            "tags": []
          },
          "execution_count": 29
        }
      ]
    },
    {
      "cell_type": "markdown",
      "metadata": {
        "id": "rKZ9y0JBkDzc",
        "colab_type": "text"
      },
      "source": [
        ""
      ]
    },
    {
      "cell_type": "code",
      "metadata": {
        "id": "isMc1zv46KO8",
        "colab_type": "code",
        "outputId": "b87073e7-bde3-4d17-ac59-befd115eb66b",
        "colab": {
          "base_uri": "https://localhost:8080/",
          "height": 221
        }
      },
      "source": [
        "health_grades_2019_all= health_grades[health_grades['YEAR'] == 2019]\n",
        "num_of_rest_2019 = health_grades_2019_all[['NAME', 'CUISINE DESCRIPTION', 'NEIGHBORHOOD', 'BORO', 'BUILDING', 'STREET', 'ZIPCODE']]\n",
        "num_of_rest_2019['combined'] = num_of_rest_2019['NAME'].str.cat(num_of_rest_2019['BUILDING'],sep=\" \")\n",
        "num_of_rest_2019['combined'] = num_of_rest_2019['combined'].str.cat(num_of_rest_2019['STREET'],sep=\" \")\n",
        "num_of_rest_2019 = num_of_rest_2019[['NAME', 'CUISINE DESCRIPTION', 'NEIGHBORHOOD', 'BORO', 'BUILDING', 'STREET', 'ZIPCODE','combined'] ]\n",
        "\n",
        "num_of_rest_2019.drop_duplicates(subset =\"combined\", keep = 'first', inplace = True) \n",
        "\n",
        "#num_of_rest_2019['NEIGHBORHOOD'].value_counts()"
      ],
      "execution_count": 0,
      "outputs": [
        {
          "output_type": "stream",
          "text": [
            "/usr/local/lib/python3.6/dist-packages/ipykernel_launcher.py:3: SettingWithCopyWarning: \n",
            "A value is trying to be set on a copy of a slice from a DataFrame.\n",
            "Try using .loc[row_indexer,col_indexer] = value instead\n",
            "\n",
            "See the caveats in the documentation: http://pandas.pydata.org/pandas-docs/stable/user_guide/indexing.html#returning-a-view-versus-a-copy\n",
            "  This is separate from the ipykernel package so we can avoid doing imports until\n",
            "/usr/local/lib/python3.6/dist-packages/ipykernel_launcher.py:4: SettingWithCopyWarning: \n",
            "A value is trying to be set on a copy of a slice from a DataFrame.\n",
            "Try using .loc[row_indexer,col_indexer] = value instead\n",
            "\n",
            "See the caveats in the documentation: http://pandas.pydata.org/pandas-docs/stable/user_guide/indexing.html#returning-a-view-versus-a-copy\n",
            "  after removing the cwd from sys.path.\n"
          ],
          "name": "stderr"
        }
      ]
    },
    {
      "cell_type": "code",
      "metadata": {
        "id": "BzVDWUE-fesK",
        "colab_type": "code",
        "outputId": "99e3d53b-0d8a-45d5-fbba-4bb7e2c9e6fd",
        "colab": {
          "base_uri": "https://localhost:8080/",
          "height": 661
        }
      },
      "source": [
        "health_grades_2019= health_grades_Y[health_grades_Y['YEAR'] == 2019]\n",
        "\n",
        "health_grades_2019['NEIGHBORHOOD'].value_counts() \n",
        "health_grades_2019['NEIGHBORHOOD'].value_counts().head(10).plot(kind='bar')\n",
        "plt.suptitle('TOP 10 NEIGHBORHOODS WITH MOST VIOLATIONS IN NYC IN 2019')\n",
        "plt.xlabel('Neighborhood')\n",
        "plt.ylabel('Number of Critical Violations')\n",
        "\n"
      ],
      "execution_count": 0,
      "outputs": [
        {
          "output_type": "execute_result",
          "data": {
            "text/plain": [
              "Text(0.5, 0.98, 'TOP 10 NEIGHBORHOODS WITH MOST VIOLATIONS IN NYC IN 2019')"
            ]
          },
          "metadata": {
            "tags": []
          },
          "execution_count": 31
        },
        {
          "output_type": "display_data",
          "data": {
            "image/png": "[encoded data removed]",
            "text/plain": [
              "<Figure size 576x432 with 1 Axes>"
            ]
          },
          "metadata": {
            "tags": []
          }
        }
      ]
    },
    {
      "cell_type": "code",
      "metadata": {
        "id": "S4ESUQNDGuY3",
        "colab_type": "code",
        "outputId": "be31bbc3-e9cf-4a7b-c9da-81f8036a83c5",
        "colab": {
          "base_uri": "https://localhost:8080/",
          "height": 661
        }
      },
      "source": [
        "num_of_rest_n = num_of_rest_2019['NEIGHBORHOOD'].value_counts().head(10).plot(kind='bar')\n",
        "plt.suptitle('10 NYC Neighborhoods with most Restaurants in 2019')\n",
        "plt.xlabel('Neighborhood')\n",
        "plt.ylabel('Number of Restaurants')\n",
        "#check number of restaurants with code below \n",
        "#print(num_of_rest_2019['NEIGHBORHOOD'].value_counts().sum())"
      ],
      "execution_count": 0,
      "outputs": [
        {
          "output_type": "execute_result",
          "data": {
            "text/plain": [
              "Text(0.5, 0.98, '10 NYC Neighborhoods with most Restaurants in 2019')"
            ]
          },
          "metadata": {
            "tags": []
          },
          "execution_count": 32
        },
        {
          "output_type": "display_data",
          "data": {
            "image/png": "[encoded data removed]",
            "text/plain": [
              "<Figure size 576x432 with 1 Axes>"
            ]
          },
          "metadata": {
            "tags": []
          }
        }
      ]
    },
    {
      "cell_type": "code",
      "metadata": {
        "id": "dIvt2kwvE63N",
        "colab_type": "code",
        "outputId": "e38e2249-89ac-483a-b001-a8f926665bbd",
        "colab": {
          "base_uri": "https://localhost:8080/",
          "height": 672
        }
      },
      "source": [
        "num_of_rest_n = num_of_rest_2019['NEIGHBORHOOD'].value_counts()\n",
        "num_of_rest_v = health_grades_2019['NEIGHBORHOOD'].value_counts()\n",
        "\n",
        "violation_per_restaurant = num_of_rest_v.div(num_of_rest_n, level=1, fill_value=0) \n",
        "violation_per_restaurant.sort_values(ascending=False).head(10).plot(kind='bar')\n",
        "plt.suptitle('10 NYC Neighborhoods with Most Violations in 2019 Nomalized')\n",
        "plt.xlabel('Neighborhood')\n",
        "plt.ylabel('Number of Violations / Number of Restaurants')"
      ],
      "execution_count": 0,
      "outputs": [
        {
          "output_type": "execute_result",
          "data": {
            "text/plain": [
              "Text(0.5, 0.98, '10 NYC Neighborhoods with Most Violations in 2019 Nomalized')"
            ]
          },
          "metadata": {
            "tags": []
          },
          "execution_count": 33
        },
        {
          "output_type": "display_data",
          "data": {
            "image/png": "[encoded data removed]",
            "text/plain": [
              "<Figure size 576x432 with 1 Axes>"
            ]
          },
          "metadata": {
            "tags": []
          }
        }
      ]
    },
    {
      "cell_type": "markdown",
      "metadata": {
        "id": "Fbg7NjpHfe76",
        "colab_type": "text"
      },
      "source": [
        ""
      ]
    },
    {
      "cell_type": "code",
      "metadata": {
        "id": "63znXl-ogfuO",
        "colab_type": "code",
        "outputId": "569bfb85-bf5a-437e-a9d9-a3ad95ad95f8",
        "colab": {
          "base_uri": "https://localhost:8080/",
          "height": 622
        }
      },
      "source": [
        "violation_per_restaurant.sort_values(ascending=True).head(10).plot(kind='bar')\n",
        "plt.suptitle('10 NEIGHBORHOODS WITH LEAST VIOLATIONS IN NYC IN 2019')\n",
        "plt.xlabel('Neighborhood')\n",
        "plt.ylabel('Number of Violations / Number of Restaurants')\n",
        "\n"
      ],
      "execution_count": 0,
      "outputs": [
        {
          "output_type": "execute_result",
          "data": {
            "text/plain": [
              "Text(0.5, 0.98, '10 NEIGHBORHOODS WITH LEAST VIOLATIONS IN NYC IN 2019')"
            ]
          },
          "metadata": {
            "tags": []
          },
          "execution_count": 37
        },
        {
          "output_type": "display_data",
          "data": {
            "image/png": "[encoded data removed]",
            "text/plain": [
              "<Figure size 576x432 with 1 Axes>"
            ]
          },
          "metadata": {
            "tags": []
          }
        }
      ]
    },
    {
      "cell_type": "code",
      "metadata": {
        "id": "o_VNooKKfG7w",
        "colab_type": "code",
        "outputId": "d7974b47-5192-4b48-9c3f-3189429e2f17",
        "colab": {
          "base_uri": "https://localhost:8080/",
          "height": 914
        }
      },
      "source": [
        "health_grades_2019['CUISINE DESCRIPTION'].value_counts().head(10).plot(kind='bar')\n",
        "plt.suptitle('CUSINES WITH MOST VIOLATIONS IN NYC IN 2019')"
      ],
      "execution_count": 0,
      "outputs": [
        {
          "output_type": "execute_result",
          "data": {
            "text/plain": [
              "Text(0.5, 0.98, 'CUSINES WITH MOST VIOLATIONS IN NYC IN 2019')"
            ]
          },
          "metadata": {
            "tags": []
          },
          "execution_count": 36
        },
        {
          "output_type": "display_data",
          "data": {
            "image/png": "[encoded data removed]",
            "text/plain": [
              "<Figure size 576x432 with 1 Axes>"
            ]
          },
          "metadata": {
            "tags": []
          }
        }
      ]
    }
  ]
}